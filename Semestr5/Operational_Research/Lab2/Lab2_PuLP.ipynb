{
 "cells": [
  {
   "cell_type": "markdown",
   "metadata": {},
   "source": [
    "# Lab2 - PuLP Library"
   ]
  },
  {
   "cell_type": "markdown",
   "metadata": {},
   "source": [
    "<b>Information on group members:</b><br>\n",
    "1) 156035, Kuba Czech <br>\n",
    "2) 156045, Wojciech Nagórka"
   ]
  },
  {
   "cell_type": "code",
   "execution_count": 1,
   "metadata": {},
   "outputs": [],
   "source": [
    "from pulp import *\n",
    "import numpy as np\n",
    "import pandas as pd"
   ]
  },
  {
   "cell_type": "markdown",
   "metadata": {},
   "source": [
    "## Introduction - brief tutorial on PuLP"
   ]
  },
  {
   "cell_type": "code",
   "execution_count": 2,
   "metadata": {},
   "outputs": [],
   "source": [
    "# Create an LpProblem instance; LpMaximize = objective function is to be maximized\n",
    "model = LpProblem(name=\"some-problem\", sense=LpMaximize)"
   ]
  },
  {
   "cell_type": "code",
   "execution_count": 3,
   "metadata": {},
   "outputs": [],
   "source": [
    "# Initialize the decision variables. We can set the name and lower bound as well.\n",
    "# To create an array of variables, you can use comprehensions of LpProblem.dicts.\n",
    "\n",
    "x1 = LpVariable(name=\"x1\", lowBound=0)\n",
    "x2 = LpVariable(name=\"x2\", lowBound=0)"
   ]
  },
  {
   "cell_type": "code",
   "execution_count": 4,
   "metadata": {},
   "outputs": [
    {
     "data": {
      "text/plain": [
       "pulp.pulp.LpAffineExpression"
      ]
     },
     "execution_count": 4,
     "metadata": {},
     "output_type": "execute_result"
    }
   ],
   "source": [
    "# An example expression\n",
    "expression = 3 * x1 + 2 * x2\n",
    "type(expression)"
   ]
  },
  {
   "cell_type": "code",
   "execution_count": 5,
   "metadata": {},
   "outputs": [
    {
     "data": {
      "text/plain": [
       "pulp.pulp.LpConstraint"
      ]
     },
     "execution_count": 5,
     "metadata": {},
     "output_type": "execute_result"
    }
   ],
   "source": [
    "# An example constraint\n",
    "constraint = 2 * x1 + 3 * x2 >= 5\n",
    "type(constraint)"
   ]
  },
  {
   "cell_type": "markdown",
   "metadata": {},
   "source": [
    "Ok, let's now use PuLP to solve the below problem:\n",
    "$max$ $4x_1 + 2x_2$ <br>\n",
    "s.t.<br>\n",
    "     $1x_1 + 1x_2 \\geq 1$ <br>\n",
    "     $2x_1 + 1x_2 \\leq 6$ <br>\n",
    "     $-1x_1 + x_2 = 1$ <br>\n",
    "     $x_1 \\geq 0$ <br>\n",
    "     $x_2 \\geq 0$ "
   ]
  },
  {
   "cell_type": "code",
   "execution_count": 6,
   "metadata": {},
   "outputs": [
    {
     "data": {
      "text/plain": [
       "test-problem:\n",
       "MAXIMIZE\n",
       "4*x1 + 2*x2 + 0\n",
       "SUBJECT TO\n",
       "#1_constraint: x1 + x2 >= 1\n",
       "\n",
       "#2_constraint: 2 x1 + x2 <= 6\n",
       "\n",
       "#3_constraint: - x1 + x2 = 1\n",
       "\n",
       "VARIABLES\n",
       "x1 Continuous\n",
       "x2 Continuous"
      ]
     },
     "execution_count": 6,
     "metadata": {},
     "output_type": "execute_result"
    }
   ],
   "source": [
    "# Problem\n",
    "model = LpProblem(name=\"test-problem\", sense=LpMaximize)\n",
    "\n",
    "x1 = LpVariable(name=\"x1\", lowBound=0)\n",
    "x2 = LpVariable(name=\"x2\", lowBound=0)\n",
    "\n",
    "model += (1 * x1 + 1*x2 >= 1, \"#1 constraint\")\n",
    "model += (2 * x1 + 1*x2 <= 6, \"#2 constraint\")\n",
    "model += (-1 * x1 + 1*x2 == 1, \"#3 constraint\")\n",
    "\n",
    "# Objective function\n",
    "obj_func = 4*x1 + 2 * x2\n",
    "model += obj_func\n",
    "\n",
    "model"
   ]
  },
  {
   "cell_type": "code",
   "execution_count": 7,
   "metadata": {},
   "outputs": [
    {
     "name": "stdout",
     "output_type": "stream",
     "text": [
      "Welcome to the CBC MILP Solver \n",
      "Version: 2.10.3 \n",
      "Build Date: Dec 15 2019 \n",
      "\n",
      "command line - /Users/Kuba/Library/Python/3.9/lib/python/site-packages/pulp/solverdir/cbc/osx/64/cbc /var/folders/8m/nx_b_wh17dg77b9kb95gxng80000gp/T/5fec02e263484496b8ebb99b3e379e5b-pulp.mps -max -timeMode elapsed -branch -printingOptions all -solution /var/folders/8m/nx_b_wh17dg77b9kb95gxng80000gp/T/5fec02e263484496b8ebb99b3e379e5b-pulp.sol (default strategy 1)\n",
      "At line 2 NAME          MODEL\n",
      "At line 3 ROWS\n",
      "At line 8 COLUMNS\n",
      "At line 17 RHS\n",
      "At line 21 BOUNDS\n",
      "At line 22 ENDATA\n",
      "Problem MODEL has 3 rows, 2 columns and 6 elements\n",
      "Coin0008I MODEL read with 0 errors\n",
      "Option for timeMode changed from cpu to elapsed\n",
      "Presolve 0 (-3) rows, 0 (-2) columns and 0 (-6) elements\n",
      "Empty problem - 0 rows, 0 columns and 0 elements\n",
      "Optimal - objective value 12\n",
      "After Postsolve, objective 12, infeasibilities - dual 0 (0), primal 0 (0)\n",
      "Optimal objective 12 - 0 iterations time 0.002, Presolve 0.00\n",
      "Option for printingOptions changed from normal to all\n",
      "Total time (CPU seconds):       0.00   (Wallclock seconds):       0.00\n",
      "\n"
     ]
    }
   ],
   "source": [
    "# Solve the problem\n",
    "status = model.solve()"
   ]
  },
  {
   "cell_type": "code",
   "execution_count": 8,
   "metadata": {},
   "outputs": [
    {
     "name": "stdout",
     "output_type": "stream",
     "text": [
      "status: 1, Optimal\n"
     ]
    }
   ],
   "source": [
    "# Print status\n",
    "print(f\"status: {model.status}, {LpStatus[model.status]}\")"
   ]
  },
  {
   "cell_type": "code",
   "execution_count": 9,
   "metadata": {},
   "outputs": [
    {
     "name": "stdout",
     "output_type": "stream",
     "text": [
      "objective: 12.000000199999999\n"
     ]
    }
   ],
   "source": [
    "# Print objective value\n",
    "print(f\"objective: {model.objective.value()}\")"
   ]
  },
  {
   "cell_type": "code",
   "execution_count": 10,
   "metadata": {},
   "outputs": [
    {
     "name": "stdout",
     "output_type": "stream",
     "text": [
      "#1_constraint: 3.3333334\n",
      "#2_constraint: 9.999999983634211e-08\n",
      "#3_constraint: 0.0\n"
     ]
    }
   ],
   "source": [
    "# Print constraint values\n",
    "for name, constraint in model.constraints.items():  print(f\"{name}: {constraint.value()}\")"
   ]
  },
  {
   "cell_type": "code",
   "execution_count": 11,
   "metadata": {},
   "outputs": [
    {
     "data": {
      "text/plain": [
       "[x1, x2]"
      ]
     },
     "execution_count": 11,
     "metadata": {},
     "output_type": "execute_result"
    }
   ],
   "source": [
    "model.variables()"
   ]
  },
  {
   "cell_type": "code",
   "execution_count": 12,
   "metadata": {},
   "outputs": [
    {
     "name": "stdout",
     "output_type": "stream",
     "text": [
      "1.6666667\n",
      "2.6666667\n"
     ]
    }
   ],
   "source": [
    "print(x1.value())\n",
    "print(x2.value())"
   ]
  },
  {
   "cell_type": "markdown",
   "metadata": {},
   "source": [
    "### The same code but using dictionaries and other nice tricks\n"
   ]
  },
  {
   "cell_type": "code",
   "execution_count": 13,
   "metadata": {},
   "outputs": [],
   "source": [
    "model = LpProblem(name=\"some-problem\", sense=LpMaximize)"
   ]
  },
  {
   "cell_type": "code",
   "execution_count": 14,
   "metadata": {},
   "outputs": [
    {
     "data": {
      "text/plain": [
       "{'First': x_First, 'Second': x_Second}"
      ]
     },
     "execution_count": 14,
     "metadata": {},
     "output_type": "execute_result"
    }
   ],
   "source": [
    "var_names = [\"First\", \"Second\"]\n",
    "x = LpVariable.dicts(\"x\", var_names, 0)\n",
    "x"
   ]
  },
  {
   "cell_type": "code",
   "execution_count": 15,
   "metadata": {},
   "outputs": [
    {
     "name": "stdout",
     "output_type": "stream",
     "text": [
      "[1, 1]\n",
      "[1, 1] 1 1 GE\n",
      "[2, 1]\n",
      "[2, 1] -1 6 LE\n",
      "[-1, 1]\n",
      "[-1, 1] 0 1 EQ\n"
     ]
    },
    {
     "data": {
      "text/plain": [
       "some-problem:\n",
       "MAXIMIZE\n",
       "4*x_First + 2*x_Second + 0\n",
       "SUBJECT TO\n",
       "GE: x_First + x_Second >= 1\n",
       "\n",
       "LE: 2 x_First + x_Second <= 6\n",
       "\n",
       "EQ: - x_First + x_Second = 1\n",
       "\n",
       "VARIABLES\n",
       "x_First Continuous\n",
       "x_Second Continuous"
      ]
     },
     "execution_count": 15,
     "metadata": {},
     "output_type": "execute_result"
    }
   ],
   "source": [
    "const_names = [\"GE\", \"LE\", \"EQ\"]\n",
    "sense = [1, -1, 0] # GE, LE, EQ\n",
    "coefs = [[1,1],[2,1],[-1,1]] # Matrix coefs\n",
    "rhs = [1, 6, 1] \n",
    "\n",
    "for c, s, r, cn in zip(coefs, sense, rhs, const_names):\n",
    "    print([c[i] for i in range(2)])\n",
    "    print(c, s, r, cn)\n",
    "    expr = lpSum([x[var_names[i]] * c[i] for i in range(2)])\n",
    "    model += LpConstraint(e=expr, sense = s, name = cn, rhs = r)\n",
    "    \n",
    "obj_coefs = [4,2]\n",
    "model += lpSum([x[var_names[i]] * obj_coefs[i] for i in range(2)])\n",
    "    \n",
    "model"
   ]
  },
  {
   "cell_type": "code",
   "execution_count": 16,
   "metadata": {},
   "outputs": [
    {
     "name": "stdout",
     "output_type": "stream",
     "text": [
      "Welcome to the CBC MILP Solver \n",
      "Version: 2.10.3 \n",
      "Build Date: Dec 15 2019 \n",
      "\n",
      "command line - /Users/Kuba/Library/Python/3.9/lib/python/site-packages/pulp/solverdir/cbc/osx/64/cbc /var/folders/8m/nx_b_wh17dg77b9kb95gxng80000gp/T/7428dd12a1db431980d7148ef4a85ec7-pulp.mps -max -timeMode elapsed -branch -printingOptions all -solution /var/folders/8m/nx_b_wh17dg77b9kb95gxng80000gp/T/7428dd12a1db431980d7148ef4a85ec7-pulp.sol (default strategy 1)\n",
      "At line 2 NAME          MODEL\n",
      "At line 3 ROWS\n",
      "At line 8 COLUMNS\n",
      "At line 17 RHS\n",
      "At line 21 BOUNDS\n",
      "At line 22 ENDATA\n",
      "Problem MODEL has 3 rows, 2 columns and 6 elements\n",
      "Coin0008I MODEL read with 0 errors\n",
      "Option for timeMode changed from cpu to elapsed\n",
      "Presolve 0 (-3) rows, 0 (-2) columns and 0 (-6) elements\n",
      "Empty problem - 0 rows, 0 columns and 0 elements\n",
      "Optimal - objective value 12\n",
      "After Postsolve, objective 12, infeasibilities - dual 0 (0), primal 0 (0)\n",
      "Optimal objective 12 - 0 iterations time 0.002, Presolve 0.00\n",
      "Option for printingOptions changed from normal to all\n",
      "Total time (CPU seconds):       0.00   (Wallclock seconds):       0.00\n",
      "\n",
      "status: 1, Optimal\n",
      "objective: 12.000000199999999\n",
      "1.6666667\n",
      "2.6666667\n"
     ]
    }
   ],
   "source": [
    "status = model.solve()\n",
    "print(f\"status: {model.status}, {LpStatus[model.status]}\")\n",
    "print(f\"objective: {model.objective.value()}\")\n",
    "for n in var_names: print(x[n].value())"
   ]
  },
  {
   "cell_type": "markdown",
   "metadata": {},
   "source": [
    "# Homework - use the PuLP library to solve the following OR problem "
   ]
  },
  {
   "cell_type": "markdown",
   "metadata": {},
   "source": [
    "Johnson & Sons company manufactures 6 types of toys. Each toy is produced by utilizing at least one Machine 1-4, requiring a different production time (see Table below). For instance, product A requires 4 minutes on Machine 1, 4 minutes on Machine 2, 0 Minutes on Machine 3, and 0 minutes on Machine 4 (all machines must be utilized to produce a toy unless the production time equals 0). Each machine is available for a different number of hours per week. The company aims to identify the number (product-mix) of toys that must be manufactured to maximize the income (can be continuous). Notably, each toy can be sold for a different price. Due to market expectations, the company wants to manufacture twice as many F toys as A. Furthermore, the number of toys B should equal C. Solve this problem using the PuLP library. Prepare a report (in the jupyter notebook) containing information on the following:\n",
    "<ol>\n",
    "<li>The number of toys to manufacture;</li>\n",
    "<li>The expected income;</li>\n",
    "<li>The production time required on each machine;</li>\n",
    "</ol>\n",
    "Consider the total and partial values, i.e., considered for each toy A-F separately (e.g., income resulting from selling toy A). Also, answer the following questions concerning the found solution:\n",
    "<ol>\n",
    "<li>Which toy(s) production should be focused on?  </li>\n",
    "<li>Is there a toy that can be excluded from consideration for production? </li>\n",
    "<li>Is there a machine that is not fully utilized?</li>\n",
    "</ol>"
   ]
  },
  {
   "cell_type": "markdown",
   "metadata": {},
   "source": [
    "| Toy | Machine 1 | Machine 2 | Machine 3 | Machine 4 | Selling price |\n",
    "| --- | --- | --- | --- | --- | --- |\n",
    "| A | 4 (minutes!) | 4 | 0 | 0 | 2.50 USD |\n",
    "| B | 0 | 3 | 3 | 0 | 1.00 USD |\n",
    "| C | 5 | 0 | 2 | 5 | 4.00 USD |\n",
    "| D | 2 | 4 | 0 | 4 | 3.00 USD |\n",
    "| E | 0 | 4 | 5 | 2 | 3.50 USD |\n",
    "| F | 2 | 2 | 1 | 1 | 4.00 USD |\n",
    "| Production time limit (hours!) | 120 | 60 |  80 |  120 |  |"
   ]
  },
  {
   "cell_type": "code",
   "execution_count": null,
   "metadata": {},
   "outputs": [
    {
     "data": {
      "text/plain": [
       "array([[4, 0, 5, 2, 0, 2],\n",
       "       [4, 3, 0, 4, 4, 2],\n",
       "       [0, 3, 2, 0, 5, 1],\n",
       "       [0, 0, 5, 4, 2, 1]])"
      ]
     },
     "execution_count": 26,
     "metadata": {},
     "output_type": "execute_result"
    }
   ],
   "source": [
    "A = [4, 4, 0, 0]\n",
    "B = [0, 3, 3, 0]\n",
    "C = [5, 0, 2, 5]\n",
    "D = [2, 4, 0, 4]\n",
    "E = [0, 4, 5, 2]\n",
    "F = [2, 2, 1, 1]\n",
    "rhs = [120 * 60, 60 * 60, 80 * 60, 120*60]\n",
    "sense = [-1 for _ in range(4)]\n",
    "const_names = ['Machine1', 'Machine2', 'Machine3', 'Machine4']\n",
    "\n",
    "my_table = np.array([A, B, C, D, E, F])\n",
    "my_table = my_table.T\n",
    "my_table"
   ]
  },
  {
   "cell_type": "code",
   "execution_count": null,
   "metadata": {},
   "outputs": [
    {
     "name": "stdout",
     "output_type": "stream",
     "text": [
      "Welcome to the CBC MILP Solver \n",
      "Version: 2.10.3 \n",
      "Build Date: Dec 15 2019 \n",
      "\n",
      "command line - /Users/Kuba/Library/Python/3.9/lib/python/site-packages/pulp/solverdir/cbc/osx/64/cbc /var/folders/8m/nx_b_wh17dg77b9kb95gxng80000gp/T/b5d50e2f3a5a48c3b62593f7f2dcadc7-pulp.mps -max -timeMode elapsed -branch -printingOptions all -solution /var/folders/8m/nx_b_wh17dg77b9kb95gxng80000gp/T/b5d50e2f3a5a48c3b62593f7f2dcadc7-pulp.sol (default strategy 1)\n",
      "At line 2 NAME          MODEL\n",
      "At line 3 ROWS\n",
      "At line 11 COLUMNS\n",
      "At line 39 RHS\n",
      "At line 46 BOUNDS\n",
      "At line 47 ENDATA\n",
      "Problem MODEL has 6 rows, 6 columns and 21 elements\n",
      "Coin0008I MODEL read with 0 errors\n",
      "Option for timeMode changed from cpu to elapsed\n",
      "Presolve 4 (-2) rows, 4 (-2) columns and 14 (-7) elements\n",
      "0  Obj -0 Dual inf 16.749996 (4)\n",
      "2  Obj 5700\n",
      "Optimal - objective value 5700\n",
      "After Postsolve, objective 5700, infeasibilities - dual 0 (0), primal 0 (0)\n",
      "Optimal objective 5700 - 2 iterations time 0.002, Presolve 0.00\n",
      "Option for printingOptions changed from normal to all\n",
      "Total time (CPU seconds):       0.00   (Wallclock seconds):       0.00\n",
      "\n",
      "status: 1, Optimal\n",
      "objective: 5700.000015\n",
      "105.88235\n",
      "917.64706\n",
      "917.64706\n",
      "0.0\n",
      "0.0\n",
      "211.76471\n"
     ]
    },
    {
     "data": {
      "text/plain": [
       "[105.88235, 917.64706, 917.64706, 0.0, 0.0, 211.76471]"
      ]
     },
     "execution_count": 35,
     "metadata": {},
     "output_type": "execute_result"
    }
   ],
   "source": [
    "model = LpProblem(name=\"toy-optimization\", sense=LpMaximize)\n",
    "\n",
    "var_names = ['A', 'B', 'C', 'D', 'E', 'F']\n",
    "x = LpVariable.dicts(\"x\", var_names, 0)#, cat = 'Integer')\n",
    "\n",
    "for c, s, r, cn in zip(my_table, sense, rhs, const_names):\n",
    "    expr = lpSum([x[var_names[i]] * c[i] for i in range(6)])\n",
    "    model += LpConstraint(e=expr, sense = s, name = cn, rhs = r)\n",
    "\n",
    "model += LpConstraint(e = lpSum([x[var_names[5]] * 1, x[var_names[0]] * (-2)]), sense = 0, rhs = 0, name = 'constraint 5')\n",
    "model += LpConstraint(e = lpSum([x[var_names[1]] * 1, x[var_names[2]] * (-1)]), sense = 0, rhs = 0, name = 'constraint 6')\n",
    "\n",
    "    \n",
    "obj_coefs = [2.5, 1.0, 4.0, 3.0, 3.5, 4.0]\n",
    "model += lpSum([x[var_names[i]] * obj_coefs[i] for i in range(6)])\n",
    "\n",
    "status = model.solve()\n",
    "print(f\"status: {model.status}, {LpStatus[model.status]}\")\n",
    "print(f\"objective: {model.objective.value()}\")\n",
    "solution = []\n",
    "for n in var_names: \n",
    "    print(x[n].value())\n",
    "    solution.append(x[n].value())\n",
    "solution"
   ]
  },
  {
   "cell_type": "code",
   "execution_count": 36,
   "metadata": {},
   "outputs": [
    {
     "name": "stdout",
     "output_type": "stream",
     "text": [
      "[1764.71, 0.0, -0.0, 2400.0]\n"
     ]
    }
   ],
   "source": [
    "solution = np.array(solution)\n",
    "machine_util = my_table @ solution\n",
    "diff = rhs - machine_util\n",
    "print([round(i, 2) for i in diff])"
   ]
  },
  {
   "cell_type": "markdown",
   "metadata": {},
   "source": [
    "# **Report** #"
   ]
  },
  {
   "cell_type": "markdown",
   "metadata": {},
   "source": [
    "### **1. How many toys will be manufactured?** ###"
   ]
  },
  {
   "cell_type": "code",
   "execution_count": 37,
   "metadata": {},
   "outputs": [
    {
     "name": "stdout",
     "output_type": "stream",
     "text": [
      "There will be manufactured 2152.94118 toys in total\n"
     ]
    }
   ],
   "source": [
    "print(f\"There will be manufactured {sum(solution)} toys in total\")"
   ]
  },
  {
   "cell_type": "markdown",
   "metadata": {},
   "source": [
    "### **2. Expected Income** ###"
   ]
  },
  {
   "cell_type": "code",
   "execution_count": 38,
   "metadata": {},
   "outputs": [
    {
     "name": "stdout",
     "output_type": "stream",
     "text": [
      "Expected income will be 5700.000015 USD\n"
     ]
    }
   ],
   "source": [
    "print(f\"Expected income will be {solution @ obj_coefs} USD\")"
   ]
  },
  {
   "cell_type": "markdown",
   "metadata": {},
   "source": [
    "### **3. Production Time Required on Each Machine** ###"
   ]
  },
  {
   "cell_type": "code",
   "execution_count": 39,
   "metadata": {},
   "outputs": [
    {
     "name": "stdout",
     "output_type": "stream",
     "text": [
      "Machine1 will be working for 5435.29412 minutes, i. e. 90.59 hours\n",
      "Machine2 will be working for 3599.9999999999995 minutes, i. e. 60.0 hours\n",
      "Machine3 will be working for 4800.000010000001 minutes, i. e. 80.0 hours\n",
      "Machine4 will be working for 4800.000010000001 minutes, i. e. 80.0 hours\n"
     ]
    }
   ],
   "source": [
    "machine_util = my_table @ solution\n",
    "for i in range(len(machine_util)):\n",
    "    print(f\"{const_names[i]} will be working for {machine_util[i]} minutes, i. e. {round(machine_util[i]/60, 2)} hours\")"
   ]
  },
  {
   "cell_type": "markdown",
   "metadata": {},
   "source": [
    "### **4. Which toy should the production be focused on?** ###"
   ]
  },
  {
   "cell_type": "markdown",
   "metadata": {},
   "source": [
    "This depends on measure we take into account.\n",
    "\n",
    "1. If we take into account which toy has the highest income per one minute of work"
   ]
  },
  {
   "cell_type": "code",
   "execution_count": 40,
   "metadata": {},
   "outputs": [
    {
     "name": "stdout",
     "output_type": "stream",
     "text": [
      "For toy A income per minute is equal to: 0.312\n",
      "For toy B income per minute is equal to: 0.167\n",
      "For toy C income per minute is equal to: 0.333\n",
      "For toy D income per minute is equal to: 0.3\n",
      "For toy E income per minute is equal to: 0.318\n",
      "For toy F income per minute is equal to: 0.667\n"
     ]
    }
   ],
   "source": [
    "for i in range(len(var_names)):\n",
    "    print(f\"For toy {var_names[i]} income per minute is equal to: {round(obj_coefs[i]/sum(my_table.T[i]), 3)}\")"
   ]
  },
  {
   "cell_type": "markdown",
   "metadata": {},
   "source": [
    "Then production should be most focused on toy F (and thus also toy A - there must be twice as much F toys as A toys) "
   ]
  },
  {
   "cell_type": "markdown",
   "metadata": {},
   "source": [
    "2. If we take into account which toy has the highest total income, then production should be most focused on toy C and thus B"
   ]
  },
  {
   "cell_type": "code",
   "execution_count": 41,
   "metadata": {},
   "outputs": [
    {
     "name": "stdout",
     "output_type": "stream",
     "text": [
      "Total income for toy A is equal to 264.705875 USD\n",
      "Total income for toy B is equal to 917.64706 USD\n",
      "Total income for toy C is equal to 3670.58824 USD\n",
      "Total income for toy D is equal to 0.0 USD\n",
      "Total income for toy E is equal to 0.0 USD\n",
      "Total income for toy F is equal to 847.05884 USD\n"
     ]
    }
   ],
   "source": [
    "for i in range(len(solution)):\n",
    "    print(f\"Total income for toy {var_names[i]} is equal to {solution[i] * obj_coefs[i]} USD\")"
   ]
  },
  {
   "cell_type": "markdown",
   "metadata": {},
   "source": [
    "Then production must be focused on toy C (and rhus also toy B - there must be as many toys C as toys B)"
   ]
  },
  {
   "cell_type": "markdown",
   "metadata": {},
   "source": [
    "### **5. Is there a toy that can be excluded from production?** ###"
   ]
  },
  {
   "cell_type": "markdown",
   "metadata": {},
   "source": [
    "Yes, there can be excluded toys D and E from production since they were not produced at all and income was 0.00 USD"
   ]
  },
  {
   "cell_type": "markdown",
   "metadata": {},
   "source": [
    "### **6. Is there any machine that is not fully utilized?** ###"
   ]
  },
  {
   "cell_type": "code",
   "execution_count": 46,
   "metadata": {},
   "outputs": [
    {
     "name": "stdout",
     "output_type": "stream",
     "text": [
      "[1764.71, 0.0, 0.0, 2400.0]\n"
     ]
    }
   ],
   "source": [
    "machine_util = my_table @ solution\n",
    "diff = rhs - machine_util\n",
    "print([abs(round(i, 2)) for i in diff])"
   ]
  },
  {
   "cell_type": "markdown",
   "metadata": {},
   "source": [
    "Yes, Machine A and Machine D are not fully utilized"
   ]
  }
 ],
 "metadata": {
  "kernelspec": {
   "display_name": "Python 3",
   "language": "python",
   "name": "python3"
  },
  "language_info": {
   "codemirror_mode": {
    "name": "ipython",
    "version": 3
   },
   "file_extension": ".py",
   "mimetype": "text/x-python",
   "name": "python",
   "nbconvert_exporter": "python",
   "pygments_lexer": "ipython3",
   "version": "3.9.6"
  }
 },
 "nbformat": 4,
 "nbformat_minor": 4
}
