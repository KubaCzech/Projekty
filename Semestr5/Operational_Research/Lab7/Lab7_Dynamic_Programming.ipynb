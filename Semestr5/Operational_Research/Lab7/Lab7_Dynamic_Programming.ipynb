{
 "cells": [
  {
   "cell_type": "markdown",
   "metadata": {},
   "source": [
    "# Lab 7 - Dynamic Programming - Power Plant"
   ]
  },
  {
   "cell_type": "markdown",
   "metadata": {},
   "source": [
    "Information on group members:\n",
    "\n",
    "1) Student ID, Name and last name <br>\n",
    "2) Student ID, Name and last name"
   ]
  },
  {
   "cell_type": "code",
   "execution_count": 1,
   "metadata": {},
   "outputs": [],
   "source": [
    "%matplotlib inline\n",
    "\n",
    "from sympy.interactive import printing\n",
    "printing.init_printing(use_latex=True)\n",
    "\n",
    "import matplotlib.pyplot as plt\n",
    "import sympy as sym\n",
    "from sympy import *\n",
    "import numpy as np"
   ]
  },
  {
   "cell_type": "markdown",
   "metadata": {},
   "source": [
    "This exercise is inspired by Ex. 2 in the Exercises.pdf file. You have to set operating levels for a power plant for consecutive two-months in a way that minimizes the operating costs (using dynamic programming). Before going to the exercise, it is recommended to get acquainted with a Python library for symbolic calculations - SymPy, which can be particularly helpful for solving this task. "
   ]
  },
  {
   "cell_type": "markdown",
   "metadata": {},
   "source": [
    "# Mini tutorial on SymPy"
   ]
  },
  {
   "cell_type": "markdown",
   "metadata": {},
   "source": [
    "SymPy is a library for performing symbolic calculations instead of numerical. It allows defining symbols, functions, expressions, equations and performing various operations on them. The examples of such operations that can help solve this exercise are given below. Note that due to lines: <br><br>\n",
    "from sympy.interactive import printing <br>\n",
    "printing.init_printing(use_latex=True)  <br><br>\n",
    "located in the first cell of this notebook, the symbols can be printed using latex, improving hence readability"
   ]
  },
  {
   "cell_type": "markdown",
   "metadata": {},
   "source": [
    "<b> Defining symbols: </b>"
   ]
  },
  {
   "cell_type": "code",
   "execution_count": 2,
   "metadata": {},
   "outputs": [],
   "source": [
    "z1, z2 = symbols(\"z1 z2\")\n",
    "# or z = symbols(\"z1 z2\")"
   ]
  },
  {
   "cell_type": "markdown",
   "metadata": {},
   "source": [
    "<b> Printing a symbol using Latex: </b>"
   ]
  },
  {
   "cell_type": "code",
   "execution_count": 3,
   "metadata": {},
   "outputs": [
    {
     "data": {
      "image/png": "[encoded data removed]",
      "text/latex": [
       "$\\displaystyle z_{1}$"
      ],
      "text/plain": [
       "z₁"
      ]
     },
     "execution_count": 3,
     "metadata": {},
     "output_type": "execute_result"
    }
   ],
   "source": [
    "z1"
   ]
  },
  {
   "cell_type": "markdown",
   "metadata": {},
   "source": [
    "<b> Defining an expression: </b>"
   ]
  },
  {
   "cell_type": "code",
   "execution_count": 4,
   "metadata": {},
   "outputs": [
    {
     "data": {
      "image/png": "[encoded data removed]",
      "text/latex": [
       "$\\displaystyle 2 z_{1} + \\left(10 - z_{2}\\right)^{2}$"
      ],
      "text/plain": [
       "                2\n",
       "2⋅z₁ + (10 - z₂) "
      ]
     },
     "execution_count": 4,
     "metadata": {},
     "output_type": "execute_result"
    }
   ],
   "source": [
    "2*z1 + (10-z2)**2"
   ]
  },
  {
   "cell_type": "markdown",
   "metadata": {},
   "source": [
    "<b>Expanding the expression:</b>"
   ]
  },
  {
   "cell_type": "code",
   "execution_count": 5,
   "metadata": {},
   "outputs": [
    {
     "data": {
      "image/png": "[encoded data removed]",
      "text/latex": [
       "$\\displaystyle 2 z_{1} + z_{2}^{2} - 20 z_{2} + 100$"
      ],
      "text/plain": [
       "         2              \n",
       "2⋅z₁ + z₂  - 20⋅z₂ + 100"
      ]
     },
     "execution_count": 5,
     "metadata": {},
     "output_type": "execute_result"
    }
   ],
   "source": [
    "expand(2*z1 + (10-z2)**2)"
   ]
  },
  {
   "cell_type": "markdown",
   "metadata": {},
   "source": [
    "<b> Simplifying the expression:</b>"
   ]
  },
  {
   "cell_type": "code",
   "execution_count": 6,
   "metadata": {},
   "outputs": [
    {
     "data": {
      "image/png": "[encoded data removed]",
      "text/latex": [
       "$\\displaystyle - z_{1}^{2} - 8 z_{1} + z_{2}^{2} - 20 z_{2} + 75$"
      ],
      "text/plain": [
       "    2            2             \n",
       "- z₁  - 8⋅z₁ + z₂  - 20⋅z₂ + 75"
      ]
     },
     "execution_count": 6,
     "metadata": {},
     "output_type": "execute_result"
    }
   ],
   "source": [
    "e = simplify(expand(2*z1 + (10-z2)**2 - (5+z1)**2))\n",
    "e"
   ]
  },
  {
   "cell_type": "markdown",
   "metadata": {},
   "source": [
    "<b> Substituting a variable with a value in the expression:</b>"
   ]
  },
  {
   "cell_type": "code",
   "execution_count": 7,
   "metadata": {},
   "outputs": [
    {
     "name": "stdout",
     "output_type": "stream",
     "text": [
      "20.0000000000000\n"
     ]
    }
   ],
   "source": [
    "e = 2*z1 + (10-z1)**2\n",
    "v = e.evalf(subs={z1: 10})\n",
    "print(v)"
   ]
  },
  {
   "cell_type": "markdown",
   "metadata": {},
   "source": [
    "<b> Substituting a variable with another variable or value:</b>"
   ]
  },
  {
   "cell_type": "code",
   "execution_count": 8,
   "metadata": {},
   "outputs": [
    {
     "data": {
      "image/png": "[encoded data removed]",
      "text/latex": [
       "$\\displaystyle 2 z_{1} + \\left(10 - z_{1}\\right)^{2}$"
      ],
      "text/plain": [
       "                2\n",
       "2⋅z₁ + (10 - z₁) "
      ]
     },
     "execution_count": 8,
     "metadata": {},
     "output_type": "execute_result"
    }
   ],
   "source": [
    "e = 2*z1 + (10-z2)**2\n",
    "e.subs(z2, z1)"
   ]
  },
  {
   "cell_type": "markdown",
   "metadata": {},
   "source": [
    "<b> Finding a (partial) derivative: </b>"
   ]
  },
  {
   "cell_type": "code",
   "execution_count": 9,
   "metadata": {},
   "outputs": [
    {
     "data": {
      "image/png": "[encoded data removed]",
      "text/latex": [
       "$\\displaystyle 2 z_{2} - 20$"
      ],
      "text/plain": [
       "2⋅z₂ - 20"
      ]
     },
     "execution_count": 9,
     "metadata": {},
     "output_type": "execute_result"
    }
   ],
   "source": [
    "e = 2*z1 + (10-z2)**2\n",
    "d = diff(e, z2)\n",
    "d"
   ]
  },
  {
   "cell_type": "markdown",
   "metadata": {},
   "source": [
    "<b> Solving an equation: </b>"
   ]
  },
  {
   "cell_type": "code",
   "execution_count": 10,
   "metadata": {},
   "outputs": [
    {
     "name": "stdout",
     "output_type": "stream",
     "text": [
      "[10]\n"
     ]
    }
   ],
   "source": [
    "e = 2*z1 + (10-z2)**2\n",
    "d = diff(e, z2)\n",
    "v = solve(Eq(d, 0), z2)\n",
    "print(v)"
   ]
  },
  {
   "cell_type": "markdown",
   "metadata": {},
   "source": [
    "# Exercise"
   ]
  },
  {
   "cell_type": "markdown",
   "metadata": {},
   "source": [
    "Below given is the data. In contrast to the exercise shown in the Exercise.pdf file, note that all pairs of all 12 months are considered stages in this notebook. "
   ]
  },
  {
   "cell_type": "code",
   "execution_count": 17,
   "metadata": {},
   "outputs": [
    {
     "data": {
      "image/png": "[encoded data removed]",
      "text/plain": [
       "<Figure size 640x480 with 1 Axes>"
      ]
     },
     "metadata": {},
     "output_type": "display_data"
    }
   ],
   "source": [
    "months = [\"Jan-Feb\", \"Mar-Apr\", \"May-Jun\", \"Jul-Aug\", \"Sep-Oct\", \"Nov-Dec\"]\n",
    "\n",
    "### min requested operating level (1-10) + allowable bounds \n",
    "request = [8,5,2,4,7,10]\n",
    "bounds = [[request[i], 10] for i in range(6)]\n",
    "\n",
    "plt.plot([i for i in range(12)], request + request, label='linear')\n",
    "plt.show()"
   ]
  },
  {
   "cell_type": "markdown",
   "metadata": {},
   "source": [
    "<b> Cost: </b> Working above the required level - cost in a generic form:"
   ]
  },
  {
   "cell_type": "code",
   "execution_count": 2,
   "metadata": {},
   "outputs": [
    {
     "data": {
      "image/png": "[encoded data removed]",
      "text/latex": [
       "$\\displaystyle m_{i1} \\left(- r_{i} + x_{i}\\right)$"
      ],
      "text/plain": [
       "m_{i1}⋅(-rᵢ + xᵢ)"
      ]
     },
     "execution_count": 2,
     "metadata": {},
     "output_type": "execute_result"
    }
   ],
   "source": [
    "xi, ri, mi1 = symbols(\"x_i r_i m_{i1}\") \n",
    "cost_above = mi1*(xi-ri)\n",
    "cost_above #mi1 = multiplicator, #xi = operating level #ri = requirement (lower bound)"
   ]
  },
  {
   "cell_type": "markdown",
   "metadata": {},
   "source": [
    "You can do c = cost_above.copy() and then c.subs, replacing variables with values (m, p, r) or other variables (r): "
   ]
  },
  {
   "cell_type": "code",
   "execution_count": 4,
   "metadata": {},
   "outputs": [
    {
     "data": {
      "image/png": "[encoded data removed]",
      "text/latex": [
       "$\\displaystyle x_{1} - 100$"
      ],
      "text/plain": [
       "x₁ - 100"
      ]
     },
     "execution_count": 4,
     "metadata": {},
     "output_type": "execute_result"
    }
   ],
   "source": [
    "x1 = symbols(\"x1\") \n",
    "c = cost_above.copy()\n",
    "c = c.subs(xi, x1)\n",
    "c = c.subs(mi1, 1)\n",
    "c = c.subs(ri, 100)\n",
    "c"
   ]
  },
  {
   "cell_type": "markdown",
   "metadata": {},
   "source": [
    "Below are provided m parameter values for each month:"
   ]
  },
  {
   "cell_type": "code",
   "execution_count": 5,
   "metadata": {},
   "outputs": [],
   "source": [
    "mv1 = [2, 8, 10, 12, 10, 6 ]"
   ]
  },
  {
   "cell_type": "markdown",
   "metadata": {},
   "source": [
    "<b> Cost: </b> Chaging the operating level - cost in a generic form:"
   ]
  },
  {
   "cell_type": "code",
   "execution_count": 6,
   "metadata": {},
   "outputs": [
    {
     "data": {
      "image/png": "[encoded data removed]",
      "text/latex": [
       "$\\displaystyle m_{i2} \\left(- s_{i} + x_{i}\\right)^{p_{i}}$"
      ],
      "text/plain": [
       "                    pᵢ\n",
       "m_{i2}⋅(-s_{i} + xᵢ)  "
      ]
     },
     "execution_count": 6,
     "metadata": {},
     "output_type": "execute_result"
    }
   ],
   "source": [
    "si, mi2, pi = symbols(\"s_{i} m_{i2} p_i\") \n",
    "cost_change = mi2*(xi-si)**pi\n",
    "cost_change #mi2 = multiplicator, #pi = exponent #xi = operating level (i-th month) #s_{i} = state: operating level ((i-1)-th month)\n",
    "cost_change"
   ]
  },
  {
   "cell_type": "markdown",
   "metadata": {},
   "source": [
    "Below are provided m and p parameter values for each month:"
   ]
  },
  {
   "cell_type": "code",
   "execution_count": 7,
   "metadata": {},
   "outputs": [],
   "source": [
    "mv2 = [6, 4, 1, 1, 3, 5]\n",
    "pv = [2, 2, 2, 2, 2, 2]"
   ]
  },
  {
   "cell_type": "markdown",
   "metadata": {},
   "source": [
    "# Solution:"
   ]
  },
  {
   "cell_type": "markdown",
   "metadata": {},
   "source": [
    "Apart from finding optimal operating levels for each month, plot these values along with the lower bounds for each month in order to show how they change in time.<br><br>Hints:<br>\n",
    "- the optimal cost = 135.42<br>\n",
    "- there is no situation when the minima for first derivatives are outside allowable bounds (but test it anyway)<br><br>\n",
    "\n",
    "After obtaining and plotting the solution, check what would happen is you change the mv1[2] parameter to 5. "
   ]
  },
  {
   "cell_type": "code",
   "execution_count": 252,
   "metadata": {},
   "outputs": [],
   "source": [
    "# Define symbolic variables with SymPy\n",
    "f7_, f6_, f5_, f4_, f3_, f2_, f1_ = symbols(\"f7_ f6_ f5_ f4_ f3_ f2_ f1_\")\n",
    "f6, f5, f4, f3, f2, f1 = symbols(\"f6 f5 f4 f3 f2 f1\")\n",
    "x6, x5, x4, x3, x2, x1 = symbols(\"x6 x5 x4 x3 x2 x1\")\n",
    "\n",
    "df5_, df4_, df3_, df2_, df1_ = symbols(\"df5_ df4_ df3_ df2_ df1_\")"
   ]
  },
  {
   "cell_type": "code",
   "execution_count": 253,
   "metadata": {},
   "outputs": [],
   "source": [
    "x6=max(request)\n",
    "f7_=0"
   ]
  },
  {
   "cell_type": "code",
   "execution_count": 254,
   "metadata": {},
   "outputs": [
    {
     "data": {
      "image/png": "[encoded data removed]",
      "text/latex": [
       "$\\displaystyle x_{2}$"
      ],
      "text/plain": [
       "x₂"
      ]
     },
     "execution_count": 254,
     "metadata": {},
     "output_type": "execute_result"
    }
   ],
   "source": [
    "globals()[f\"x{2}\"]"
   ]
  },
  {
   "cell_type": "code",
   "execution_count": 255,
   "metadata": {},
   "outputs": [],
   "source": [
    "f6=mv2[-1]*(x6-x5)**(pv[-1])+mv1[-1]*(x6-request[-1])+f7_"
   ]
  },
  {
   "cell_type": "code",
   "execution_count": 256,
   "metadata": {},
   "outputs": [],
   "source": [
    "f6_=f6"
   ]
  },
  {
   "cell_type": "code",
   "execution_count": 257,
   "metadata": {},
   "outputs": [
    {
     "data": {
      "image/png": "[encoded data removed]",
      "text/latex": [
       "$\\displaystyle 5 \\left(10 - x_{5}\\right)^{2}$"
      ],
      "text/plain": [
       "           2\n",
       "5⋅(10 - x₅) "
      ]
     },
     "execution_count": 257,
     "metadata": {},
     "output_type": "execute_result"
    }
   ],
   "source": [
    "f6_"
   ]
  },
  {
   "cell_type": "code",
   "execution_count": 258,
   "metadata": {},
   "outputs": [
    {
     "name": "stdout",
     "output_type": "stream",
     "text": [
      "4\n",
      "3\n",
      "2\n",
      "1\n",
      "6\n"
     ]
    }
   ],
   "source": [
    "for i in range(5,0,-1):\n",
    "    if i==1:\n",
    "        previous=6\n",
    "    else:\n",
    "        previous=i-1\n",
    "    print(previous)\n",
    "    globals()[f\"f{i}\"]=mv2[i]*(globals()[f\"x{i}\"]-globals()[f\"x{previous}\"])**(pv[i])+mv1[i]*(globals()[f\"x{i}\"]-request[i])+globals()[f\"f{i+1}_\"]\n",
    "    globals()[f\"df{i}\"]= diff(globals()[f\"f{i}\"], globals()[f\"x{i}\"])\n",
    "    v = solve(Eq(globals()[f\"df{i}\"], 0), globals()[f\"x{i}\"])\n",
    "    globals()[f\"f{i}_\"]=globals()[f\"f{i}\"].subs(globals()[f\"x{i}\"],v[0])\n",
    "    globals()[f\"x{i}\"]=v[0]"
   ]
  },
  {
   "cell_type": "code",
   "execution_count": 259,
   "metadata": {},
   "outputs": [
    {
     "data": {
      "image/png": "[encoded data removed]",
      "text/latex": [
       "$\\displaystyle \\frac{798 x_{1}}{41} + 5 \\left(\\frac{571}{205} - \\frac{3 x_{1}}{41}\\right)^{2} + \\left(\\frac{120}{41} - \\frac{15 x_{1}}{41}\\right)^{2} + 3 \\left(\\frac{122}{41} - \\frac{5 x_{1}}{41}\\right)^{2} + 5 \\left(\\frac{694}{205} - \\frac{3 x_{1}}{41}\\right)^{2} + \\left(- \\frac{15 x_{1}}{41} - \\frac{85}{41}\\right)^{2} + 4 \\left(x_{1} - 10\\right)^{2} - \\frac{34954}{205}$"
      ],
      "text/plain": [
       "                       2                2                 2                 2 \n",
       "798⋅x₁     ⎛571   3⋅x₁⎞    ⎛120   15⋅x₁⎞      ⎛122   5⋅x₁⎞      ⎛694   3⋅x₁⎞  \n",
       "────── + 5⋅⎜─── - ────⎟  + ⎜─── - ─────⎟  + 3⋅⎜─── - ────⎟  + 5⋅⎜─── - ────⎟  \n",
       "  41       ⎝205    41 ⎠    ⎝ 41     41 ⎠      ⎝ 41    41 ⎠      ⎝205    41 ⎠  \n",
       "\n",
       "                2                       \n",
       "  ⎛  15⋅x₁   85⎞               2   34954\n",
       "+ ⎜- ───── - ──⎟  + 4⋅(x₁ - 10)  - ─────\n",
       "  ⎝    41    41⎠                    205 "
      ]
     },
     "execution_count": 259,
     "metadata": {},
     "output_type": "execute_result"
    }
   ],
   "source": [
    "f1"
   ]
  },
  {
   "cell_type": "code",
   "execution_count": 260,
   "metadata": {},
   "outputs": [
    {
     "data": {
      "image/png": "[encoded data removed]",
      "text/latex": [
       "$\\displaystyle \\frac{358 x_{1}}{41} - \\frac{2782}{41}$"
      ],
      "text/plain": [
       "358⋅x₁   2782\n",
       "────── - ────\n",
       "  41      41 "
      ]
     },
     "execution_count": 260,
     "metadata": {},
     "output_type": "execute_result"
    }
   ],
   "source": [
    "df1"
   ]
  },
  {
   "cell_type": "code",
   "execution_count": 265,
   "metadata": {},
   "outputs": [
    {
     "data": {
      "image/png": "[encoded data removed]",
      "text/latex": [
       "$\\displaystyle \\frac{90727}{895}$"
      ],
      "text/plain": [
       "90727\n",
       "─────\n",
       " 895 "
      ]
     },
     "execution_count": 265,
     "metadata": {},
     "output_type": "execute_result"
    }
   ],
   "source": [
    "f1_"
   ]
  },
  {
   "cell_type": "code",
   "execution_count": 209,
   "metadata": {},
   "outputs": [
    {
     "data": {
      "image/png": "[encoded data removed]",
      "text/latex": [
       "$\\displaystyle \\frac{78 x_{3}}{11} + 5 \\left(\\frac{166}{55} - \\frac{3 x_{3}}{11}\\right)^{2} + 3 \\left(\\frac{37}{11} - \\frac{5 x_{3}}{11}\\right)^{2} + 5 \\left(\\frac{199}{55} - \\frac{3 x_{3}}{11}\\right)^{2} - \\frac{3194}{55}$"
      ],
      "text/plain": [
       "                      2                2                 2       \n",
       "78⋅x₃     ⎛166   3⋅x₃⎞      ⎛37   5⋅x₃⎞      ⎛199   3⋅x₃⎞    3194\n",
       "───── + 5⋅⎜─── - ────⎟  + 3⋅⎜── - ────⎟  + 5⋅⎜─── - ────⎟  - ────\n",
       "  11      ⎝ 55    11 ⎠      ⎝11    11 ⎠      ⎝ 55    11 ⎠     55 "
      ]
     },
     "execution_count": 209,
     "metadata": {},
     "output_type": "execute_result"
    }
   ],
   "source": [
    "f4_"
   ]
  }
 ],
 "metadata": {
  "kernelspec": {
   "display_name": "Python 3 (ipykernel)",
   "language": "python",
   "name": "python3"
  },
  "language_info": {
   "codemirror_mode": {
    "name": "ipython",
    "version": 3
   },
   "file_extension": ".py",
   "mimetype": "text/x-python",
   "name": "python",
   "nbconvert_exporter": "python",
   "pygments_lexer": "ipython3",
   "version": "3.10.5"
  }
 },
 "nbformat": 4,
 "nbformat_minor": 4
}
