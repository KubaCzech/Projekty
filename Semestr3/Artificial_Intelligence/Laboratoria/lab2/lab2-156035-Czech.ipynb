{
 "cells": [
  {
   "cell_type": "code",
   "execution_count": 12,
   "metadata": {},
   "outputs": [],
   "source": [
    "#Kuba Czech, 156035"
   ]
  },
  {
   "cell_type": "markdown",
   "metadata": {},
   "source": [
    "# Informed search - the A* algorithm"
   ]
  },
  {
   "cell_type": "markdown",
   "metadata": {},
   "source": [
    "The depth-first search and breadth-first search considered in the previous lesson are completely *blind* algorithms: they're only concerned whether the currently considered state is a goal state or not. They're unable to distinguish whether a state is easy or hard to reach, or whether it is near or far of the goal. This makes them very inefficient search algorithms. To allievate the issue, we introduce informed search algorithms. The information is given to an algorithm in two ways:\n",
    "\n",
    "1. By using an *action cost* function $c(s,a)$, which, given a state $s$ and an action $a$ available in this state, returns its cost as a non-negative number.\n",
    "2. By using a *heuristic* $h(s)$, which, given a state, estimates the lowest cost to reach a goal state from the given state.\n",
    "\n",
    "Given a sequence of actions $a_1, \\ldots, a_n$ and an initial state $s_1$, we can express the *total cost* of reaching the state $s_{n+1}$ by executing the sequence as:\n",
    "$$ c(s_1, a_1, \\ldots, a_{n-1}) = \\sum_{i=1}^n c(s_i, a_i) $$\n",
    "and the *expected cost* of the solution as the sum of the total cost and the estimate cost of reaching the goal from the state $s_{n+1}$\n",
    "$$ f(s_1, a_1, \\ldots, a_n) = c(s_1, a_1, \\ldots, a_n) + h(s_{n+1}) $$\n",
    "\n",
    "The heuristic function is a bit tricky, because we want it to have two properties:\n",
    "* *Admissibility*: It must never *overestimate* the true cost of reaching the goal. \n",
    "* *Consistency*: Let $s$ be a state such that $a$ is an available action in this state and $s'$ is the state reached by executing this action. The heuristic should fulfil triangle inequality, that is, the estimated cost to reach the goal from $s$ should be no greater than the cost of executing the action $a$ + the estimated cost of reaching the goal from the new state.\n",
    "$$ h(s) \\leq c(s, a) + h(s') $$\n",
    "\n",
    "One can prove that admissibility follows from consistency, but consistency is important only if there are multiple paths to reach the same state (i.e., we are searching in a graph, not in a tree). Otherwise, admissability is sufficient."
   ]
  },
  {
   "cell_type": "markdown",
   "metadata": {},
   "source": [
    "Lets extend the class `Problem` from the previous lesson with two new functions `action_cost` and `heuristic`, which correspond to the functions $c(s,a)$ and $h(s)$ described above."
   ]
  },
  {
   "cell_type": "code",
   "execution_count": 1,
   "metadata": {},
   "outputs": [],
   "source": [
    "class Problem:\n",
    "    @property\n",
    "    def initial_state(self):\n",
    "        ...\n",
    "        \n",
    "    def available_actions(self, state):\n",
    "        ...        \n",
    "        \n",
    "    def do_action(self, state, action):\n",
    "        ...\n",
    "        return new_state\n",
    "    \n",
    "    def is_goal(self, state) -> bool:\n",
    "        ...\n",
    "        \n",
    "    def action_cost(self, state, action) -> float:\n",
    "        ...\n",
    "        \n",
    "    def heuristic(self, state) -> float:\n",
    "        ..."
   ]
  },
  {
   "cell_type": "markdown",
   "metadata": {},
   "source": [
    "To make a concrete example, lets revisit the vacuum world. \n",
    "\n",
    "![](aima-images/fig2_2.png)\n",
    "\n",
    "Below, we assume a very simple model:\n",
    "* Any action costs 1. This corresponds to searching for the shortest plan.\n",
    "* The heuristic estimation is the number of fields which are still dirty. \n",
    "\n",
    "\n",
    "Lets consider the properties of the heuristic:\n",
    "* Is it admissible? The heuristic value is equal to the number of 'Suck' actions that are yet to be executed and ignores the spatial aspect (i.e., moving between the rooms), thus never overestimating.\n",
    "* Is it consistent? As a consequence of a single action the heuristic value can decrease by at most 1 (if the action happens to be 'Suck' and the room is dirty). The cost of any action is 1, so rewriting the triangle inequality we arrive at:\n",
    "$$ h(s) \\leq c(s, a) + h(s') = \\begin{cases} 1 + (h(s)-1) & a=\\text{'Suck' and the room was dirty} \\\\ 1 + h(s) & \\text{otherwise} \\end{cases} $$\n",
    "* Is it the best we could have? By no means! We could include the spatial aspect."
   ]
  },
  {
   "cell_type": "code",
   "execution_count": 2,
   "metadata": {},
   "outputs": [],
   "source": [
    "class VacuumProblem(Problem):\n",
    "    @property\n",
    "    def initial_state(self):\n",
    "        return (0, (True, True))\n",
    "    \n",
    "    def available_actions(self, state):\n",
    "        return [\"Left\", \"Suck\", \"Right\"]\n",
    "        \n",
    "    def do_action(self, state, action):\n",
    "        robot, dirty = state\n",
    "        if action == \"Left\":\n",
    "            return (max(robot-1, 0), dirty)\n",
    "        elif action == \"Suck\":\n",
    "            new_dirty = list(dirty)\n",
    "            new_dirty[robot] = False\n",
    "            return (robot, tuple(new_dirty))\n",
    "        elif action == \"Right\":\n",
    "            return (min(robot+1, len(dirty)-1), dirty)        \n",
    "        raise Exception('Invalid action')\n",
    "    \n",
    "    def is_goal(self, state) -> bool:\n",
    "        return not any(state[1])\n",
    "    \n",
    "    def action_cost(self, state, action):\n",
    "        return 1\n",
    "    \n",
    "    def heuristic(self, state):\n",
    "        return sum(state[1])"
   ]
  },
  {
   "cell_type": "markdown",
   "metadata": {},
   "source": [
    "## Task 1: Implement the A* algorithm\n",
    "\n",
    "To implement the A* algorithm you must have a priority queue. Luckily, Python comes with one, so you don't need to implement it by yourself. Then, the algorithm is very simple: \n",
    "1. Start with a queue containing a single item - the initial state\n",
    "2. Repeat until the queue is not empty:\n",
    "  1. Pick an item with the lowest expected cost\n",
    "  2. If this is the goal, return the sequence of actions necessary to reach this state\n",
    "  3. Otherwise, for each available action, create a new entry in the queue corresponding to the state reached after executing the action.\n",
    "  \n",
    "Guard the algorithm against infinite loops: if you already visited a state, you don't need to visit it again (if your heuristic is consistent).\n",
    "\n",
    "In the cell below implement the algorithm in a similar manner as the BFS and DFS in the previous lesson: the sole argument is an object of the class Problem and the function should return a list of actions to achieve a goal state from the initial state.\n",
    "If it is impossible to reach the goal, return `None`.\n",
    "Count the number of states visited during the search (e.g., the number of different states in the collection you use to guard against infinite loops) and print in out before returning from the function, it will be useful later on to compare different heuristics."
   ]
  },
  {
   "cell_type": "code",
   "execution_count": 4,
   "metadata": {},
   "outputs": [],
   "source": [
    "from queue import PriorityQueue\n",
    "\n",
    "def astar(problem: Problem):\n",
    "    q = PriorityQueue()\n",
    "    curr_state = problem.initial_state\n",
    "    visited = set() \n",
    "    q.put((problem.heuristic(curr_state)+0, curr_state, []))\n",
    "    nr_of_it = 0\n",
    "    \n",
    "    while (not q.empty()):\n",
    "        nr_of_it += 1\n",
    "        est_cost, curr_state, list_of_steps = q.get()\n",
    "        curr_cost = est_cost - problem.heuristic(curr_state)\n",
    "        visited.add(curr_state)\n",
    "        if (problem.is_goal(curr_state)):\n",
    "            break\n",
    "        for i in problem.available_actions(curr_state):\n",
    "            next_state = problem.do_action(curr_state, i)\n",
    "            if (next_state not in visited):\n",
    "                new_list = list_of_steps + [i]\n",
    "                q.put((curr_cost + problem.action_cost(next_state, i) + problem.heuristic(next_state), next_state, new_list))\n",
    "    \n",
    "    print (\"Number of unique visited states: \", len(visited))\n",
    "    if (problem.is_goal (curr_state)):\n",
    "        return list_of_steps\n",
    "    return (None)"
   ]
  },
  {
   "cell_type": "markdown",
   "metadata": {},
   "source": [
    "Now lets test your code in the vacuum world!"
   ]
  },
  {
   "cell_type": "code",
   "execution_count": 5,
   "metadata": {},
   "outputs": [
    {
     "name": "stdout",
     "output_type": "stream",
     "text": [
      "Number of unique visited states:  4\n"
     ]
    },
    {
     "data": {
      "text/plain": [
       "['Suck', 'Right', 'Suck']"
      ]
     },
     "execution_count": 5,
     "metadata": {},
     "output_type": "execute_result"
    }
   ],
   "source": [
    "astar(VacuumProblem())"
   ]
  },
  {
   "cell_type": "markdown",
   "metadata": {},
   "source": [
    "## Task 2: Variants of the vacuum world\n",
    "\n",
    "Now lets consider a different take on the vacuum world in which the heuristic is not admissible and increases as the number of dirty fields decreases."
   ]
  },
  {
   "cell_type": "code",
   "execution_count": 6,
   "metadata": {},
   "outputs": [
    {
     "name": "stdout",
     "output_type": "stream",
     "text": [
      "Number of unique visited states:  7\n"
     ]
    },
    {
     "data": {
      "text/plain": [
       "['Suck', 'Right', 'Suck']"
      ]
     },
     "execution_count": 6,
     "metadata": {},
     "output_type": "execute_result"
    }
   ],
   "source": [
    "class VacuumProblem1(VacuumProblem):\n",
    "    def action_cost(self, state, action):\n",
    "        return 1\n",
    "    \n",
    "    def heuristic(self, state): #Nr of vertices - nr of dirty places = Nr of clean places\n",
    "        return len(state[1]) - sum(state[1])\n",
    "    \n",
    "astar(VacuumProblem1())"
   ]
  },
  {
   "cell_type": "markdown",
   "metadata": {},
   "source": [
    "And another in which heuristic grossly overestimates the cost."
   ]
  },
  {
   "cell_type": "code",
   "execution_count": 7,
   "metadata": {},
   "outputs": [
    {
     "name": "stdout",
     "output_type": "stream",
     "text": [
      "Number of unique visited states:  4\n"
     ]
    },
    {
     "data": {
      "text/plain": [
       "['Suck', 'Right', 'Suck']"
      ]
     },
     "execution_count": 7,
     "metadata": {},
     "output_type": "execute_result"
    }
   ],
   "source": [
    "class VacuumProblem2(VacuumProblem):\n",
    "    def action_cost(self, state, action):\n",
    "        return 1\n",
    "    \n",
    "    def heuristic(self, state):\n",
    "        return 10 * sum(state[1])\n",
    "    \n",
    "astar(VacuumProblem2())"
   ]
  },
  {
   "cell_type": "markdown",
   "metadata": {},
   "source": [
    "**Which of the three heuristic functions (`VacuumProblem`, `VacuumProblem1`, `VacuumProblem2`) is the best? Is it the expected answer given the properties of the heuristics? If not, explain why an unorthodox approach works better.**"
   ]
  },
  {
   "cell_type": "markdown",
   "metadata": {},
   "source": [
    "The best heuristic (least visited unique states) is VacuumProblem2, which is not an expected answer (overestimating the cost).\n",
    "The reason why we got this results is that in VacuumProblem we ignore spatial movement, so heuristic does not tell us anything about moves left and right we need to do, thus algorithm favourises states where no or little moves were done and VacuumProblem2 favourises moves where amount of dirt will be decreased (10 spatial moves is equal to cleaning one dirty spot) and explores them faster then VacuumProblem, which results in finding a solution faster (tested on bigger instance than (0, (True, True)), because for the instance proposed in exercise there was a draw)"
   ]
  },
  {
   "cell_type": "markdown",
   "metadata": {},
   "source": [
    "## Task 3: 8-puzzle problem\n",
    "\n",
    "Recall the 8-puzzle problem from the previous lesson. Reuse your code and implement an extended version assuming that each action costs 1. Propose 3 (at least) admissible heuristics. This time don't change the initial state, your solution should be capable enough to solve this.\n",
    "\n",
    "![](aima-images/fig3_4.png)"
   ]
  },
  {
   "cell_type": "code",
   "execution_count": 8,
   "metadata": {},
   "outputs": [],
   "source": [
    "from math import sqrt\n",
    "\n",
    "class PuzzleProblem(Problem):\n",
    "    @property\n",
    "    def initial_state(self):\n",
    "        return ((7, 2, 4), (5, 0, 6), (8, 3, 1))\n",
    "    \n",
    "    def goal_state(self):\n",
    "        return ((0, 1, 2), (3, 4, 5), (6, 7, 8))\n",
    "    \n",
    "    def available_actions(self, state):\n",
    "        return ['Left', 'Right', 'Up', 'Down']        \n",
    "    \n",
    "    def convert_tuple_to_list(self, state):\n",
    "        y1, y2, y3 = state\n",
    "        final_list = []\n",
    "        for i in [y1, y2, y3]:\n",
    "            x1, x2, x3 = i\n",
    "            final_list.append([x1, x2, x3])\n",
    "        return final_list\n",
    "    \n",
    "    def convert_list_to_tuple (self, state):\n",
    "        y = [[], [], []]\n",
    "        for i in range (3):\n",
    "            x1, x2, x3 = state [i]\n",
    "            y[i] = (x1, x2, x3)\n",
    "        final_tuple = (y[0], y[1], y[2])\n",
    "        return final_tuple\n",
    "    \n",
    "    def find_position (self, state, puzzle): #find position of any puzzle\n",
    "        for i in range(3):\n",
    "            for j in range (3):\n",
    "                if (state[i][j] == puzzle):\n",
    "                    return (i, j)\n",
    "        print (\"Sorry to say it, but puzzle evaporated ;)\")\n",
    "        return None\n",
    "    \n",
    "    def do_action(self, state, action):\n",
    "        new_state = self.convert_tuple_to_list (state)\n",
    "        x, y = self.find_position(new_state, 0)\n",
    "        if (action == 'Up'):\n",
    "            if (x > 0):\n",
    "                new_state[x][y], new_state[x-1][y] = new_state[x-1][y], new_state[x][y]\n",
    "            else:\n",
    "                return self.convert_list_to_tuple(new_state)\n",
    "        if (action == 'Down'):\n",
    "            try:\n",
    "                new_state[x][y], new_state[x+1][y] = new_state [x+1][y], new_state[x][y]\n",
    "            except IndexError:\n",
    "                return self.convert_list_to_tuple(new_state)\n",
    "        if (action == 'Left'):\n",
    "            if(y > 0):\n",
    "                new_state[x][y], new_state[x][y-1] = new_state[x][y-1], new_state[x][y]\n",
    "            else:\n",
    "                return self.convert_list_to_tuple(new_state)\n",
    "        if (action == 'Right'):\n",
    "            try:\n",
    "                new_state[x][y], new_state[x][y+1] = new_state[x][y+1], new_state[x][y]\n",
    "            except IndexError:\n",
    "                return self.convert_list_to_tuple(new_state)\n",
    "        return self.convert_list_to_tuple(new_state)\n",
    "    \n",
    "    def is_goal(self, state) -> bool:\n",
    "        if (state == self.goal_state()):\n",
    "            return True\n",
    "        return False\n",
    "        \n",
    "    def action_cost(self, state, action) -> float:\n",
    "        return 1\n",
    "        \n",
    "    def heuristic(self, state) -> float:\n",
    "        goal = self.convert_tuple_to_list(self.goal_state())\n",
    "        heur = 0\n",
    "        l = self.convert_tuple_to_list(state)\n",
    "        for i in range (3):\n",
    "            for j in range (3):\n",
    "                a, b = self.find_position(goal, l[i][j])\n",
    "                heur += sqrt(pow((a - i), 2) + pow((b - j), 2))\n",
    "        return heur/2\n",
    "                "
   ]
  },
  {
   "cell_type": "markdown",
   "metadata": {},
   "source": [
    "**Prove that this heuristic is admissible.**"
   ]
  },
  {
   "cell_type": "markdown",
   "metadata": {},
   "source": [
    "Here we calculated sum distances in a straight line between where the puzzle is and where it should be. However, when there are two puzzles that are in improper places e. g. ((1, 0, 2), (3, 4, 5), (6, 7, 8)) the heuristic would equal two and only one move is possible. That's because summing all distances is basically doubling a number of minimal moves in optimal situations (swapping one puzzle with blank space is changing position of two puzzles at once) - to correct that we need to divide our function by 2 to get rid of this doubling. Now it won't overestimate number of moves."
   ]
  },
  {
   "cell_type": "code",
   "execution_count": 9,
   "metadata": {},
   "outputs": [],
   "source": [
    "class PuzzleProblem1(PuzzleProblem):\n",
    "    def heuristic(self, state) -> float:     \n",
    "        goal = self.convert_tuple_to_list(self.goal_state())\n",
    "        heur = 0\n",
    "        l = self.convert_tuple_to_list(state)\n",
    "        for i in range (3):\n",
    "            for j in range (3):\n",
    "                a, b = self.find_position(goal, l[i][j])\n",
    "                heur += abs(a - i) + abs(b - j)\n",
    "        return heur/2"
   ]
  },
  {
   "cell_type": "markdown",
   "metadata": {},
   "source": [
    "**Prove that this heuristic is admissible.**"
   ]
  },
  {
   "cell_type": "markdown",
   "metadata": {},
   "source": [
    "Here we calculated sum distances remembering that we can't move in a straight line. However  (as it was previously) we need to divide our sum by two, to ensure that heuristic won't be overestimated - thats why we return heur/2."
   ]
  },
  {
   "cell_type": "code",
   "execution_count": 10,
   "metadata": {},
   "outputs": [],
   "source": [
    "class PuzzleProblem2(PuzzleProblem):\n",
    "    def heuristic(self, state) -> float:\n",
    "        goal = self.convert_tuple_to_list(self.goal_state())\n",
    "        heur = 0\n",
    "        l = self.convert_tuple_to_list(state)\n",
    "        for i in range (3):\n",
    "            for j in range (3):\n",
    "                a, b = self.find_position(goal, l[i][j])\n",
    "                heur += (a != i or b != j )\n",
    "        return max(0, heur-1)"
   ]
  },
  {
   "cell_type": "markdown",
   "metadata": {},
   "source": [
    "**Prove that this heuristic is admissible.**"
   ]
  },
  {
   "cell_type": "markdown",
   "metadata": {},
   "source": [
    "Now we calculate number of puzzles that are in the improper places. However, in each case making a move is changing a position of two puzzles at once, so to ensure that we don't overestimate we need to substract 1 because when 9 puzzles are in the wrong place, it can happen that we can achieve goal state by making 8 moves."
   ]
  },
  {
   "cell_type": "markdown",
   "metadata": {},
   "source": [
    "Run your heuristics on the given problem."
   ]
  },
  {
   "cell_type": "code",
   "execution_count": 11,
   "metadata": {},
   "outputs": [
    {
     "name": "stdout",
     "output_type": "stream",
     "text": [
      "Plan 0:\n",
      "Number of unique visited states:  45532\n",
      "['Left', 'Up', 'Right', 'Down', 'Right', 'Down', 'Left', 'Left', 'Up', 'Right', 'Right', 'Down', 'Left', 'Left', 'Up', 'Right', 'Right', 'Up', 'Left', 'Left', 'Down', 'Right', 'Right', 'Up', 'Left', 'Left']\n",
      "\n",
      "Plan 1:\n",
      "Number of unique visited states:  23429\n",
      "['Left', 'Up', 'Right', 'Down', 'Right', 'Down', 'Left', 'Left', 'Up', 'Right', 'Right', 'Down', 'Left', 'Left', 'Up', 'Right', 'Right', 'Up', 'Left', 'Left', 'Down', 'Right', 'Right', 'Up', 'Left', 'Left']\n",
      "\n",
      "Plan 2:\n",
      "Number of unique visited states:  33086\n",
      "['Left', 'Up', 'Right', 'Down', 'Right', 'Down', 'Left', 'Left', 'Up', 'Right', 'Right', 'Down', 'Left', 'Left', 'Up', 'Right', 'Right', 'Up', 'Left', 'Left', 'Down', 'Right', 'Right', 'Up', 'Left', 'Left']\n",
      "\n",
      "Is plan0==plan1? True\n",
      "Is len(plan0)==len(plan1)? True\n",
      "Is plan0==plan2? True\n",
      "Is len(plan0)==len(plan2)? True\n",
      "Is plan1==plan2? True\n",
      "Is len(plan1)==len(plan2)? True\n"
     ]
    }
   ],
   "source": [
    "print(\"Plan 0:\")\n",
    "plan0 = astar(PuzzleProblem())\n",
    "print(plan0, end = '\\n\\n')\n",
    "print(\"Plan 1:\")\n",
    "plan1 = astar(PuzzleProblem1())\n",
    "print (plan1, end = '\\n\\n')\n",
    "print(\"Plan 2:\")\n",
    "plan2 = astar(PuzzleProblem2())\n",
    "print(plan2, end = '\\n\\n')\n",
    "\n",
    "print(\"Is plan0==plan1?\", plan0 == plan1)\n",
    "print(\"Is len(plan0)==len(plan1)?\", len(plan0) == len(plan1))\n",
    "print(\"Is plan0==plan2?\", plan0 == plan2)\n",
    "print(\"Is len(plan0)==len(plan2)?\", len(plan0) == len(plan2))\n",
    "print(\"Is plan1==plan2?\", plan1 == plan2)\n",
    "print(\"Is len(plan1)==len(plan2)?\", len(plan1) == len(plan2))"
   ]
  },
  {
   "cell_type": "markdown",
   "metadata": {},
   "source": [
    "**Which of the heuristics is the best for this task? Why is that?**"
   ]
  },
  {
   "cell_type": "markdown",
   "metadata": {},
   "source": [
    "Best of presented heuristics (least visited unique states) is middle heuristic. That's because it is closest to reality - last heuristic in almost every case underestimate true cost so it is neccesary to explore more states (favourising states where few moves were done) and first heuristic returns values as it would be possible to move in a straight line (which is not possible) so it also underestimates. Middle heuristic (Manhattan Distance) is best, because even though it is not perfect, it respects the fact that blank space moves either vertically or horizontally, not diagonally."
   ]
  },
  {
   "cell_type": "markdown",
   "metadata": {},
   "source": [
    "------------\n",
    "The pictures and the description of 8-puzzle are from \"Artificial Intelligence: A Modern Approach\" 3rd ed."
   ]
  }
 ],
 "metadata": {
  "kernelspec": {
   "display_name": "Python 3 (ipykernel)",
   "language": "python",
   "name": "python3"
  },
  "language_info": {
   "codemirror_mode": {
    "name": "ipython",
    "version": 3
   },
   "file_extension": ".py",
   "mimetype": "text/x-python",
   "name": "python",
   "nbconvert_exporter": "python",
   "pygments_lexer": "ipython3",
   "version": "3.10.8"
  }
 },
 "nbformat": 4,
 "nbformat_minor": 4
}
