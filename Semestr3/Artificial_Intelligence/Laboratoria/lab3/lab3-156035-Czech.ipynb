{
 "cells": [
  {
   "cell_type": "markdown",
   "metadata": {},
   "source": [
    "# Local search"
   ]
  },
  {
   "cell_type": "markdown",
   "metadata": {},
   "source": [
    "During the previous classes we were concerned with finding a sequence of actions (a plan) to reach one of the goal states from a predefined initial state. In a sense, we were more interested in the *journey* rather than in the *destination* itself: our goal was to transform the initial state to the goal state, not to construct the goal state from scratch. Local search is also different from tree/graph search algorithms like A*: it assumes that all intermediate states are acceptable, but they differ in their quality and the goal is to find the best solution."
   ]
  },
  {
   "cell_type": "markdown",
   "metadata": {},
   "source": [
    "We will reuse the definition of the class `Problem` from earlier, but extend it with a new function: `cost`, returning a number representing the cost of the state given as its argument `state`. We want to minimize the cost, so the lower the number the better the state. We make no assumptions about the cost being non-negative, i.e., there may be states with a negative cost (i.e., a gain) - such an approach enables us to consider both maximization and minimization problems within a single framework. We also replace the property `intial_state` with the funtion `random_state` which is supposed to return a randomly generated state for the problem. Finally, we remove `is_goal`, as there may be no clear goal definition."
   ]
  },
  {
   "cell_type": "code",
   "execution_count": 1,
   "metadata": {},
   "outputs": [],
   "source": [
    "class Problem:\n",
    "    def random_state(self):\n",
    "        ...\n",
    "        \n",
    "    def available_actions(self, state):\n",
    "        ...        \n",
    "        \n",
    "    def do_action(self, state, action):\n",
    "        ...\n",
    "        return new_state\n",
    "        \n",
    "    def cost(self, state) -> float:\n",
    "        ..."
   ]
  },
  {
   "cell_type": "markdown",
   "metadata": {},
   "source": [
    "Throughout this assignment we will be using a pseudo-random number generator. A pseudo-random number generator is an algorithm that, given some initial state (usually called *seed*) returns a sequence of numbers. The algorithm itself is deterministic, meaning that the same initial state = the same sequence of numbers. To exploit this property, in the following cell we fix the seed to be 42 - this way every time you restart the notebook and execute it you will get the same results."
   ]
  },
  {
   "cell_type": "code",
   "execution_count": 2,
   "metadata": {},
   "outputs": [],
   "source": [
    "import random\n",
    "import copy\n",
    "random.seed(42)"
   ]
  },
  {
   "cell_type": "markdown",
   "metadata": {},
   "source": [
    "As an example, we will consider the problem of finding a minimum of some complex function of 2 variables within the domain of integer from the set $\\{-10, -9, \\ldots, 9, 10\\}$. Observe that, in general, moving from the real domain to the integer domain makes the usual optimization algorithms unsuitable. "
   ]
  },
  {
   "cell_type": "code",
   "execution_count": 3,
   "metadata": {},
   "outputs": [],
   "source": [
    "class FunctionOptimizationProblem:\n",
    "    def random_state(self):\n",
    "        x = random.randrange(-10, 11)\n",
    "        y = random.randrange(-10, 11)\n",
    "        return (x, y)\n",
    "    \n",
    "    def available_actions(self, state):\n",
    "        x, y = state\n",
    "        actions = []\n",
    "        if x > -10:\n",
    "            actions += [(-1, 0)]\n",
    "        if y > -10:\n",
    "            actions += [(0, -1)]\n",
    "        if x < 10:\n",
    "            actions += [(1, 0)]\n",
    "        if y < 10:\n",
    "            actions += [(0, 1)]\n",
    "        return actions\n",
    "    \n",
    "    def do_action(self, state, action):\n",
    "        x, y = state\n",
    "        dx, dy = action\n",
    "        return (x+dx, y+dy)\n",
    "    \n",
    "    def cost(self, state) -> float:\n",
    "        x, y = state\n",
    "        cost = -5*x-8*y\n",
    "        if x+y>6:\n",
    "            cost += 10000\n",
    "        if 5*x+9*y>45:\n",
    "            cost += 10000\n",
    "        if x < 0:\n",
    "            cost += 10000\n",
    "        if y < 0:\n",
    "            cost += 10000\n",
    "        return cost"
   ]
  },
  {
   "cell_type": "markdown",
   "metadata": {},
   "source": [
    "Let's test it a bit. We start by creating the object representing the problem and generating two random states. Observe that they are different."
   ]
  },
  {
   "cell_type": "code",
   "execution_count": 4,
   "metadata": {},
   "outputs": [
    {
     "name": "stdout",
     "output_type": "stream",
     "text": [
      "Random state 1 (10, -7)\n",
      "Random state 2 (-10, -2)\n"
     ]
    }
   ],
   "source": [
    "problem = FunctionOptimizationProblem()\n",
    "print(\"Random state 1\", problem.random_state())\n",
    "print(\"Random state 2\", problem.random_state())"
   ]
  },
  {
   "cell_type": "markdown",
   "metadata": {},
   "source": [
    "Now let's compute the cost of few different states"
   ]
  },
  {
   "cell_type": "code",
   "execution_count": 5,
   "metadata": {},
   "outputs": [
    {
     "name": "stdout",
     "output_type": "stream",
     "text": [
      "The cost of an acceptable state (3, 3): -39\n",
      "The cost of a terrible state (3, 7): 19929\n",
      "The cost of an optimal solution (0, 5): -40\n"
     ]
    }
   ],
   "source": [
    "print(\"The cost of an acceptable state (3, 3):\", problem.cost((3,3)))\n",
    "print(\"The cost of a terrible state (3, 7):\", problem.cost((3,7)))\n",
    "print(\"The cost of an optimal solution (0, 5):\", problem.cost((0,5)))"
   ]
  },
  {
   "cell_type": "markdown",
   "metadata": {},
   "source": [
    "## Task 1: Implement hill climbing"
   ]
  },
  {
   "cell_type": "markdown",
   "metadata": {},
   "source": [
    "Complete the following cell of code with an implemention of the hill climbing algorithm.\n",
    "The algorithm starts in the initial state of the given search problem `problem` and loops forever.\n",
    "During each repetition of the loop it \"looks around\" and tests all the states achievable through actions available in the current state.\n",
    "If none of them is better than the current state (i.e., the algorithm reached a peak or a plateau according to the `cost` function), it breaks the loop and returns the reached state.\n",
    "Otherwise, it goes to the best of these neighbouring states and computes the next repetition of the loop."
   ]
  },
  {
   "cell_type": "code",
   "execution_count": 6,
   "metadata": {},
   "outputs": [],
   "source": [
    "def hill_climbing(problem):\n",
    "    curr_state = problem.random_state()\n",
    "    \n",
    "    while (True):\n",
    "        #print(curr_state)\n",
    "        actions = problem.available_actions(curr_state)\n",
    "        new = []\n",
    "        for i in actions:\n",
    "            next_state = problem.do_action(curr_state, i)\n",
    "            if (problem.cost(next_state) < problem.cost(curr_state)):\n",
    "                new.append((next_state, problem.cost(next_state)))\n",
    "        new.sort(key = lambda x: x[1])\n",
    "        if(new == []):\n",
    "            return curr_state\n",
    "        else:\n",
    "            curr_state = new[0][0]"
   ]
  },
  {
   "cell_type": "markdown",
   "metadata": {},
   "source": [
    "Lets test your implementation. Try running the cell multiple times. Observe that on some runs it is capable of finding the optimal solution. On others, the result is terrible."
   ]
  },
  {
   "cell_type": "code",
   "execution_count": 7,
   "metadata": {
    "scrolled": true,
    "tags": []
   },
   "outputs": [
    {
     "name": "stdout",
     "output_type": "stream",
     "text": [
      "Solution (-2, 6)\n",
      "Cost 9962\n"
     ]
    }
   ],
   "source": [
    "problem = FunctionOptimizationProblem()\n",
    "solution = hill_climbing(problem)\n",
    "print(\"Solution\", solution)\n",
    "print(\"Cost\", problem.cost(solution))\n",
    "#Min cost is for (0, 5) and is equal -40"
   ]
  },
  {
   "cell_type": "markdown",
   "metadata": {},
   "source": [
    "## Task 2: Implement random-restarts hill-climbing"
   ]
  },
  {
   "cell_type": "markdown",
   "metadata": {},
   "source": [
    "Complete the cell below to implement random-restarts hill-climbing. Randomization is already taken care of in the problem, so basically your task is to call `hill_climbing` number of times given by the argument `n` and return the best solution."
   ]
  },
  {
   "cell_type": "code",
   "execution_count": 8,
   "metadata": {},
   "outputs": [],
   "source": [
    "def random_restarts_hill_climbing(problem: Problem, n: int):\n",
    "    curr_state = None\n",
    "    for i in range(n):\n",
    "        new_state = hill_climbing(problem)\n",
    "        if (curr_state == None or problem.cost(new_state) < problem.cost(curr_state)):\n",
    "            curr_state = new_state\n",
    "    return curr_state"
   ]
  },
  {
   "cell_type": "code",
   "execution_count": 9,
   "metadata": {},
   "outputs": [
    {
     "name": "stdout",
     "output_type": "stream",
     "text": [
      "Solution (0, 5)\n",
      "Cost -40\n"
     ]
    }
   ],
   "source": [
    "problem = FunctionOptimizationProblem()\n",
    "solution = random_restarts_hill_climbing(problem, 100)\n",
    "print(\"Solution\", solution)\n",
    "print(\"Cost\", problem.cost(solution))"
   ]
  },
  {
   "cell_type": "markdown",
   "metadata": {},
   "source": [
    "## Task 3: The n-queens"
   ]
  },
  {
   "cell_type": "markdown",
   "metadata": {},
   "source": [
    "Complete the following cell of code with the implementation of the n-queens problem. The gist of the problem is to place $n$ queens on a $n \\times n$ cheesboard so that no queen attacks another. In other words: there is at most one queen in every row, column and diagonal of the cheesboard. The value $n$ is given as the constructor parameter and available in the class as `self.n`."
   ]
  },
  {
   "cell_type": "code",
   "execution_count": 10,
   "metadata": {},
   "outputs": [],
   "source": [
    "class NQueens(Problem):\n",
    "    def __init__(self, n):\n",
    "        self.n = n\n",
    "        \n",
    "    def random_state(self):\n",
    "        n = self.n\n",
    "        queens = []\n",
    "        while (len(queens) < n):\n",
    "            i = random.randrange(0, n)\n",
    "            j = random.randrange(0, n)\n",
    "            if ((i, j) not in queens):\n",
    "                queens.append((i, j))\n",
    "        return queens\n",
    "        \n",
    "    def available_actions(self, state):\n",
    "        n = self.n\n",
    "        actions = []\n",
    "        for i in range(n):\n",
    "            #a, b = state[i]\n",
    "            for move in [(0, 1), (0, -1), (1, 0), (-1, 0), (1, 1), (-1, -1), (1, -1), (-1, 1)]: #moves by 1 in all directions\n",
    "                x, y = state[i]\n",
    "                dx, dy = move\n",
    "                while (True):\n",
    "                    if (x+dx < 0 or x+dx > n-1 or y+dy < 0 or y+dy > n-1): #outside the chessboard\n",
    "                        break\n",
    "                    elif((x+dx, y+dy) in state):\n",
    "                        break\n",
    "                    else: #add possible move to actions\n",
    "                        actions.append((i, (x + dx - state[i][0], y + dy - state[i][1])))\n",
    "                    x += dx\n",
    "                    y += dy\n",
    "        return actions\n",
    "        \n",
    "    def do_action(self, state, action):\n",
    "        new_state = copy.deepcopy(state)\n",
    "        q, (dx, dy) = action\n",
    "        x, y = state[q]\n",
    "        new_state[q] = (x+dx, y+dy)\n",
    "        return new_state\n",
    "        \n",
    "    def cost(self, state) -> float:\n",
    "        n = self.n\n",
    "        cost = 0\n",
    "        for i in range(n):\n",
    "            for j in range(n):\n",
    "                if (i == j):\n",
    "                    continue\n",
    "                if (state[i][0] == state[j][0] or state[i][1] == state[j][1]):\n",
    "                    cost += 1\n",
    "                    break\n",
    "                elif (abs(state[i][0] - state[j][0]) == abs(state[i][1] - state[j][1])):\n",
    "                    cost += 1\n",
    "                    break\n",
    "        #print(cost)\n",
    "        return cost\n",
    "    def chessboard(self, state):\n",
    "        n = self.n\n",
    "        board = [[0 for i in range (n)] for j in range(n)]\n",
    "        for i in range (len(state)):\n",
    "            a, b = state[i]\n",
    "            board[a][b] = 1\n",
    "        for i in range(len(state)):\n",
    "            print (board[i])"
   ]
  },
  {
   "cell_type": "markdown",
   "metadata": {},
   "source": [
    "Let's test your implementations. If everything went well, the following cell should terminate after a few seconds and yield a perfect configuration of queens on a $8 \\times 8$ board."
   ]
  },
  {
   "cell_type": "code",
   "execution_count": 11,
   "metadata": {},
   "outputs": [
    {
     "name": "stdout",
     "output_type": "stream",
     "text": [
      "Cost 0\n",
      "Solution [(0, 5), (1, 0), (2, 4), (5, 2), (6, 6), (4, 7), (3, 1), (7, 3)]\n",
      "[0, 0, 0, 0, 0, 1, 0, 0]\n",
      "[1, 0, 0, 0, 0, 0, 0, 0]\n",
      "[0, 0, 0, 0, 1, 0, 0, 0]\n",
      "[0, 1, 0, 0, 0, 0, 0, 0]\n",
      "[0, 0, 0, 0, 0, 0, 0, 1]\n",
      "[0, 0, 1, 0, 0, 0, 0, 0]\n",
      "[0, 0, 0, 0, 0, 0, 1, 0]\n",
      "[0, 0, 0, 1, 0, 0, 0, 0]\n"
     ]
    }
   ],
   "source": [
    "problem = NQueens(8)\n",
    "state = problem.random_state()\n",
    "solution = random_restarts_hill_climbing(problem, 100)\n",
    "print(\"Cost\", problem.cost(solution))\n",
    "print(\"Solution\", solution)\n",
    "problem.chessboard(solution)"
   ]
  },
  {
   "cell_type": "code",
   "execution_count": null,
   "metadata": {},
   "outputs": [],
   "source": []
  }
 ],
 "metadata": {
  "kernelspec": {
   "display_name": "Python 3 (ipykernel)",
   "language": "python",
   "name": "python3"
  },
  "language_info": {
   "codemirror_mode": {
    "name": "ipython",
    "version": 3
   },
   "file_extension": ".py",
   "mimetype": "text/x-python",
   "name": "python",
   "nbconvert_exporter": "python",
   "pygments_lexer": "ipython3",
   "version": "3.10.8"
  }
 },
 "nbformat": 4,
 "nbformat_minor": 4
}
