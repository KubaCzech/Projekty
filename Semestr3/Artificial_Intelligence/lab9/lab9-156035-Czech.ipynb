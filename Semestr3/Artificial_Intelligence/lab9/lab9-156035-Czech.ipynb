{
 "cells": [
  {
   "cell_type": "markdown",
   "metadata": {},
   "source": [
    "# Introduction to PyTorch"
   ]
  },
  {
   "cell_type": "markdown",
   "metadata": {},
   "source": [
    "In this assignment, we will use PyTorch, one of the most popular deep learning libraries out there. Similarly to programming languages, deep learning libraries can be very different in terms of syntax, yet they all revolve around the same concepts, so once you master one, learning another is much less challenging. We also use `seaborn` to plot charts and `scikit-learn` to download datasets. The three cells below should install, respectively:\n",
    "1. PyTorch: `torch` and `torchvision`, version at least `1.13`\n",
    "2. Seaborn\n",
    "3. `scikit-learn` version at least `0.23`."
   ]
  },
  {
   "cell_type": "code",
   "execution_count": 1,
   "metadata": {},
   "outputs": [],
   "source": [
    "#!pip install 'torch>=1.13' torchvision --extra-index-url https://download.pytorch.org/whl/cpu"
   ]
  },
  {
   "cell_type": "code",
   "execution_count": 2,
   "metadata": {},
   "outputs": [],
   "source": [
    "#!pip install seaborn"
   ]
  },
  {
   "cell_type": "code",
   "execution_count": 3,
   "metadata": {},
   "outputs": [],
   "source": [
    "#!pip install 'scikit-learn>=0.23.0'"
   ]
  },
  {
   "cell_type": "markdown",
   "metadata": {},
   "source": [
    "# Linear regression"
   ]
  },
  {
   "cell_type": "markdown",
   "metadata": {},
   "source": [
    "## Data preparation\n",
    "\n",
    "For this task we'll consider the problem of predicting houses prices in California. We begin by loading the dataset using `fetch_california_housing`. The returned object contains a few fields:\n",
    "\n",
    "* `data` - the matrix of features\n",
    "* `feature_names` - names of the features\n",
    "* `target` - the values to predict"
   ]
  },
  {
   "cell_type": "code",
   "execution_count": 4,
   "metadata": {},
   "outputs": [],
   "source": [
    "from sklearn.datasets import fetch_california_housing\n",
    "dataset = fetch_california_housing()"
   ]
  },
  {
   "cell_type": "markdown",
   "metadata": {},
   "source": [
    "Let's see its description:"
   ]
  },
  {
   "cell_type": "code",
   "execution_count": 5,
   "metadata": {},
   "outputs": [
    {
     "name": "stdout",
     "output_type": "stream",
     "text": [
      ".. _california_housing_dataset:\n",
      "\n",
      "California Housing dataset\n",
      "--------------------------\n",
      "\n",
      "**Data Set Characteristics:**\n",
      "\n",
      "    :Number of Instances: 20640\n",
      "\n",
      "    :Number of Attributes: 8 numeric, predictive attributes and the target\n",
      "\n",
      "    :Attribute Information:\n",
      "        - MedInc        median income in block group\n",
      "        - HouseAge      median house age in block group\n",
      "        - AveRooms      average number of rooms per household\n",
      "        - AveBedrms     average number of bedrooms per household\n",
      "        - Population    block group population\n",
      "        - AveOccup      average number of household members\n",
      "        - Latitude      block group latitude\n",
      "        - Longitude     block group longitude\n",
      "\n",
      "    :Missing Attribute Values: None\n",
      "\n",
      "This dataset was obtained from the StatLib repository.\n",
      "https://www.dcc.fc.up.pt/~ltorgo/Regression/cal_housing.html\n",
      "\n",
      "The target variable is the median house value for California districts,\n",
      "expressed in hundreds of thousands of dollars ($100,000).\n",
      "\n",
      "This dataset was derived from the 1990 U.S. census, using one row per census\n",
      "block group. A block group is the smallest geographical unit for which the U.S.\n",
      "Census Bureau publishes sample data (a block group typically has a population\n",
      "of 600 to 3,000 people).\n",
      "\n",
      "An household is a group of people residing within a home. Since the average\n",
      "number of rooms and bedrooms in this dataset are provided per household, these\n",
      "columns may take surpinsingly large values for block groups with few households\n",
      "and many empty houses, such as vacation resorts.\n",
      "\n",
      "It can be downloaded/loaded using the\n",
      ":func:`sklearn.datasets.fetch_california_housing` function.\n",
      "\n",
      ".. topic:: References\n",
      "\n",
      "    - Pace, R. Kelley and Ronald Barry, Sparse Spatial Autoregressions,\n",
      "      Statistics and Probability Letters, 33 (1997) 291-297\n",
      "\n"
     ]
    }
   ],
   "source": [
    "print(dataset.DESCR)"
   ]
  },
  {
   "cell_type": "markdown",
   "metadata": {},
   "source": [
    "Now we convert the data to `torch.Tensor`, a PyTorch-specific representation of a tensor (a tensor is a generalization of a matrix to more than 2 dimensions). The `dtype` parameter forces conversion to floating-point numbers. The output of the cell is the size of the matrices. The output of the cell are the shapes of both tensors - `X` is 20640 rows by 8 columns and `y` is a vector of 20640 values"
   ]
  },
  {
   "cell_type": "code",
   "execution_count": 6,
   "metadata": {},
   "outputs": [
    {
     "data": {
      "text/plain": [
       "(torch.Size([20640, 8]), torch.Size([20640]))"
      ]
     },
     "execution_count": 6,
     "metadata": {},
     "output_type": "execute_result"
    }
   ],
   "source": [
    "import torch\n",
    "\n",
    "X = torch.tensor(dataset['data'], dtype=torch.float)\n",
    "y = torch.tensor(dataset['target'], dtype=torch.float)\n",
    "\n",
    "X.shape, y.shape"
   ]
  },
  {
   "cell_type": "markdown",
   "metadata": {},
   "source": [
    "We then split the data randomly into three subsets: a training set consisting of 70\\% of the learning examples, a validation set consisting of 10\\% and a test set consisting of the remaining 20\\%."
   ]
  },
  {
   "cell_type": "code",
   "execution_count": 7,
   "metadata": {},
   "outputs": [
    {
     "name": "stdout",
     "output_type": "stream",
     "text": [
      "Training: 14448\n",
      "Validation: 2064\n",
      "Test: 4128\n"
     ]
    }
   ],
   "source": [
    "import torch.utils.data as data\n",
    "training, validation, test = data.random_split(data.TensorDataset(X, y), [0.7, 0.1, 0.2], generator=torch.Generator().manual_seed(42))\n",
    "\n",
    "print(\"Training:\", len(training))\n",
    "print(\"Validation:\", len(validation))\n",
    "print(\"Test:\", len(test))"
   ]
  },
  {
   "cell_type": "markdown",
   "metadata": {},
   "source": [
    "Let's inspect the first element of the training set - it is a pair of tensors, the first one consisting of 8 values (the features), whereas the second one is a tensor of a single value (the target)"
   ]
  },
  {
   "cell_type": "code",
   "execution_count": 8,
   "metadata": {},
   "outputs": [
    {
     "data": {
      "text/plain": [
       "(tensor([ 5.6063e+00,  1.6000e+01,  6.4174e+00,  9.6957e-01,  1.5250e+03,\n",
       "          3.3152e+00,  3.7450e+01, -1.2190e+02]),\n",
       " tensor(3.2050))"
      ]
     },
     "execution_count": 8,
     "metadata": {},
     "output_type": "execute_result"
    }
   ],
   "source": [
    "training[0]"
   ]
  },
  {
   "cell_type": "markdown",
   "metadata": {},
   "source": [
    "## Building a simple regressor\n",
    "\n",
    "PyTorch is based on modules (objects of the class `torch.nn.Module`), which are composed into a compution graph. Each module may use parameters (objects of the class `torch.nn.Parameter`), and for each such an object it is possible to automatically compute gradients and optimize them according to some cost function.\n",
    "\n",
    "We begin by constructing a single linear layer, that is, a layer implementing the operation $\\hat{y} = Xw + b$"
   ]
  },
  {
   "cell_type": "code",
   "execution_count": 9,
   "metadata": {},
   "outputs": [],
   "source": [
    "import torch.nn as nn\n",
    "\n",
    "regressor = nn.Linear(8, 1) # 8 input features, 1 output feature"
   ]
  },
  {
   "cell_type": "markdown",
   "metadata": {},
   "source": [
    "To evaluate the performance we use mean-squared error. While PyTorch offers a ready to use implementation as the class `torch.nn.MSELoss()`, this time we implement it manually as an example. The main point is to inherit from the class `torch.nn.Module` and then to override the method `forward`, which is responsible for performing computations in the forward direction of the computation graph. Computations in the backward direction (that is, gradient flow) are derrived automatically."
   ]
  },
  {
   "cell_type": "code",
   "execution_count": 10,
   "metadata": {},
   "outputs": [],
   "source": [
    "class MSE(nn.Module):\n",
    "    def __init__(self):\n",
    "        super(MSE, self).__init__()\n",
    "        \n",
    "    def forward(self, prediction, target):\n",
    "        return ((prediction-target)**2).mean()\n",
    "\n",
    "mse = MSE()"
   ]
  },
  {
   "cell_type": "markdown",
   "metadata": {},
   "source": [
    "We would like to optimize the vector `w` and `b` automatically during the learning. To this end, we use the class `torch.optim.Adam`, which implements some extensions of the graident descent algorithm. We construct the object `opt`, which is responsible for optimizing the regressor's parameters, obtained by calling `regressor.parameters()`."
   ]
  },
  {
   "cell_type": "code",
   "execution_count": 11,
   "metadata": {},
   "outputs": [],
   "source": [
    "import torch.optim as optim\n",
    "\n",
    "opt = optim.Adam(regressor.parameters())"
   ]
  },
  {
   "cell_type": "markdown",
   "metadata": {},
   "source": [
    "## Starting computations\n",
    "\n",
    "We implement mini-batch learning over `n_epoch` epochs. Within each epoch:\n",
    "1. We shuffle the training set and iterate over it in the batches of `batch_size` examples\n",
    "3. We zero the gradients stored by the optimizer (`opt.zero_grad()`)\n",
    "4. We execute the regressor and compute the mean-squared error (MSE).\n",
    "5. We compute the gradients (`mse_value.backward()`) and apply them (`opt.step()`) to update the parameters of the regressor\n",
    "6. We store the value of MSE. We call the `detach()` method to detach the MSE from its gradients. This enables passing the values to other libraries like `seaborn`.\n",
    "\n",
    "After an epoch is completed, we average the collected MSEs and store the value."
   ]
  },
  {
   "cell_type": "code",
   "execution_count": 12,
   "metadata": {},
   "outputs": [],
   "source": [
    "import numpy as np\n",
    "\n",
    "mse_values = []\n",
    "batch_size = 100\n",
    "n_epoch = 10\n",
    "for epoch in range(n_epoch):    \n",
    "    mse_epoch = []\n",
    "    for X_batch, y_batch in data.DataLoader(training, batch_size=batch_size, shuffle=True):        \n",
    "        opt.zero_grad() #set gradients as zero in our optimizer\n",
    "        y_pred = regressor(X_batch).reshape((-1,)) #predict y set\n",
    "        mse_value = mse(y_pred, y_batch) #calculate mse between true and predicted values\n",
    "        mse_value.backward() #compute gradients\n",
    "        opt.step() #apply computed gradients\n",
    "        mse_epoch.append(mse_value.item()) #append calculated in this iteration mse\n",
    "    mse_values.append(np.mean(mse_epoch))    "
   ]
  },
  {
   "cell_type": "code",
   "execution_count": 13,
   "metadata": {},
   "outputs": [
    {
     "data": {
      "image/png": "[encoded data removed]",
      "text/plain": [
       "<Figure size 500x500 with 1 Axes>"
      ]
     },
     "metadata": {},
     "output_type": "display_data"
    }
   ],
   "source": [
    "import seaborn as sns\n",
    "\n",
    "_ = sns.relplot(x=range(len(mse_values)), y=mse_values, kind=\"line\")"
   ]
  },
  {
   "cell_type": "markdown",
   "metadata": {},
   "source": [
    "Execute the two preceeding cells of the code again. Because the regressor and the optimizer were not created anew, so the parameters are already optimized and the obtained charts are vastly different. In order to return to the initial state it is necessary to create new obiect `regressor` and `opt`."
   ]
  },
  {
   "cell_type": "markdown",
   "metadata": {},
   "source": [
    "## Task 1: Early stopping"
   ]
  },
  {
   "cell_type": "markdown",
   "metadata": {},
   "source": [
    "Complete the function `train_linear_regression` implementing the early stopping: after each epoch of learning compute the value of MSE using the sets `X_validation` and `y_validation`. Keep track of the epoch number you got the best value of the MSE on the validation set so far. Stop the learning process if that epoch is at least `no_improvment` epochs in the past. Store MSE for validation in the `validation_mses` list and return it along with the trained regressor.\n",
    "\n",
    "Hints and remarks:\n",
    "* Observe that we must call the methods `regressor.train()` and `regressor.eval()` to switch the module between the training mode and the evaluation mode. \n",
    "* Remeber not to call `opt.step()` after performing the computation on the validation set, to not update the weights of the model. Similarly, you don't need to compute gradients during this step.\n",
    "* You don't need to shuffle the validation set, nor go over it using batches. Instead, you can access the underlying tensors: `validation[:][0]` gets you the X matrix, whereas `validation[:][1]` returns the y vector.\n",
    "* You may want to print out the epoch number and the value of the MSE on the validation set every time you find a better value. In the beginning you should expect a better value more or less every epoch and the decrease in MSE will be step, with time the decreases will diminishi and you'll hit a better value only every few epochs"
   ]
  },
  {
   "cell_type": "code",
   "execution_count": 60,
   "metadata": {},
   "outputs": [],
   "source": [
    "def train_linear_regression(training: data.Dataset, \n",
    "                      validation: data.Dataset, \n",
    "                      n_features: int = 0, \n",
    "                      no_improvement: int = 10,\n",
    "                      batch_size: int = 128,\n",
    "                      max_epochs: int = 100_000):\n",
    "    n_features = training[0][0].shape[0]\n",
    "    regressor = nn.Linear(n_features, 1) # n_features input features, 1 output feature\n",
    "    opt = optim.Adam(regressor.parameters())\n",
    "\n",
    "    training_mses = []\n",
    "    validation_mses = []\n",
    "    best_epoch = 0\n",
    "    best_validation_mses = float('Inf')\n",
    "    \n",
    "    for epoch in range(max_epochs):\n",
    "        #Training\n",
    "        regressor.train()\n",
    "        t_mse = []\n",
    "        for X_batch, y_batch in data.DataLoader(training, batch_size=batch_size, shuffle=True):\n",
    "            opt.zero_grad()\n",
    "            y_pred = regressor(X_batch).reshape((-1,))\n",
    "            mse_value = mse(y_pred, y_batch) #calculate mse between true and predicted values\n",
    "            mse_value.backward() #compute gradients\n",
    "            opt.step()\n",
    "            t_mse.append(mse_value.item())\n",
    "        \n",
    "        \n",
    "        #Evaluation\n",
    "        regressor.eval()\n",
    "        X_val, y_val = validation[:][0], validation[:][1]\n",
    "        y_pred = regressor(X_val).reshape((-1,))\n",
    "        validation_mse = mse(y_pred, y_val)\n",
    "        validation_mses.append(validation_mse.item())\n",
    "        \n",
    "        if (best_validation_mses > validation_mse):\n",
    "            best_validation_mses = validation_mse\n",
    "            best_epoch = epoch\n",
    "            \n",
    "        if (epoch - best_epoch >= no_improvement):\n",
    "            print(f\"Stopped at {best_epoch}, current epoch: {epoch}\")\n",
    "            break\n",
    "        training_mses.append(np.mean(t_mse))\n",
    "        \n",
    "    return regressor, validation_mses"
   ]
  },
  {
   "cell_type": "markdown",
   "metadata": {},
   "source": [
    "Let's test your solution. First, we train the regressor."
   ]
  },
  {
   "cell_type": "code",
   "execution_count": 61,
   "metadata": {
    "scrolled": true,
    "tags": []
   },
   "outputs": [
    {
     "name": "stdout",
     "output_type": "stream",
     "text": [
      "Stopped at 109, current epoch: 119\n"
     ]
    }
   ],
   "source": [
    "regressor, validation_mses = train_linear_regression(training, validation)"
   ]
  },
  {
   "cell_type": "markdown",
   "metadata": {},
   "source": [
    "We plot the last 40 values of MSE on the validation set. If you implemented the early stopping correctly, the lowest value should be exactly at 30 (`=40-no_imporvement`)"
   ]
  },
  {
   "cell_type": "code",
   "execution_count": 62,
   "metadata": {},
   "outputs": [
    {
     "data": {
      "image/png": "[encoded data removed]",
      "text/plain": [
       "<Figure size 500x500 with 1 Axes>"
      ]
     },
     "metadata": {},
     "output_type": "display_data"
    }
   ],
   "source": [
    "_ = sns.relplot(x=range(1, 41), y=validation_mses[-40:], kind=\"line\")"
   ]
  },
  {
   "cell_type": "markdown",
   "metadata": {},
   "source": [
    "Finally, let's compute the mse on the test set. It should be similar to those we got on the validation set."
   ]
  },
  {
   "cell_type": "code",
   "execution_count": 64,
   "metadata": {
    "scrolled": true,
    "tags": []
   },
   "outputs": [
    {
     "name": "stdout",
     "output_type": "stream",
     "text": [
      "MSE on the test set: 0.6091575622558594\n"
     ]
    }
   ],
   "source": [
    "regressor.eval()\n",
    "y_pred = regressor(test[:][0]).reshape((-1,))\n",
    "print(\"MSE on the test set:\", mse(y_pred, test[:][1]).item())"
   ]
  },
  {
   "cell_type": "markdown",
   "metadata": {},
   "source": [
    "# Classification"
   ]
  },
  {
   "cell_type": "markdown",
   "metadata": {},
   "source": [
    "The second part is concerned with the classification task. We begin by downloading the MNIST dataset, consisting of 70.000 examples of handwritten digits (0-9), represented as grayscale images of 28x28 pixels. We use the function `fetch_openml` that downloads the data from [https://www.openml.org/](https://www.openml.org)."
   ]
  },
  {
   "cell_type": "code",
   "execution_count": 66,
   "metadata": {},
   "outputs": [],
   "source": [
    "from sklearn.datasets import fetch_openml\n",
    "mnist_sklearn = fetch_openml('mnist_784', version=1, as_frame=False)#, parser='auto') parser argument seems to make troubles\n",
    "#but it is 'auto' by default so it is not a big deal to comment that part"
   ]
  },
  {
   "cell_type": "markdown",
   "metadata": {},
   "source": [
    "Let's learn something about the dataset"
   ]
  },
  {
   "cell_type": "code",
   "execution_count": 67,
   "metadata": {},
   "outputs": [
    {
     "name": "stdout",
     "output_type": "stream",
     "text": [
      "**Author**: Yann LeCun, Corinna Cortes, Christopher J.C. Burges  \n",
      "**Source**: [MNIST Website](http://yann.lecun.com/exdb/mnist/) - Date unknown  \n",
      "**Please cite**:  \n",
      "\n",
      "The MNIST database of handwritten digits with 784 features, raw data available at: http://yann.lecun.com/exdb/mnist/. It can be split in a training set of the first 60,000 examples, and a test set of 10,000 examples  \n",
      "\n",
      "It is a subset of a larger set available from NIST. The digits have been size-normalized and centered in a fixed-size image. It is a good database for people who want to try learning techniques and pattern recognition methods on real-world data while spending minimal efforts on preprocessing and formatting. The original black and white (bilevel) images from NIST were size normalized to fit in a 20x20 pixel box while preserving their aspect ratio. The resulting images contain grey levels as a result of the anti-aliasing technique used by the normalization algorithm. the images were centered in a 28x28 image by computing the center of mass of the pixels, and translating the image so as to position this point at the center of the 28x28 field.  \n",
      "\n",
      "With some classification methods (particularly template-based methods, such as SVM and K-nearest neighbors), the error rate improves when the digits are centered by bounding box rather than center of mass. If you do this kind of pre-processing, you should report it in your publications. The MNIST database was constructed from NIST's NIST originally designated SD-3 as their training set and SD-1 as their test set. However, SD-3 is much cleaner and easier to recognize than SD-1. The reason for this can be found on the fact that SD-3 was collected among Census Bureau employees, while SD-1 was collected among high-school students. Drawing sensible conclusions from learning experiments requires that the result be independent of the choice of training set and test among the complete set of samples. Therefore it was necessary to build a new database by mixing NIST's datasets.  \n",
      "\n",
      "The MNIST training set is composed of 30,000 patterns from SD-3 and 30,000 patterns from SD-1. Our test set was composed of 5,000 patterns from SD-3 and 5,000 patterns from SD-1. The 60,000 pattern training set contained examples from approximately 250 writers. We made sure that the sets of writers of the training set and test set were disjoint. SD-1 contains 58,527 digit images written by 500 different writers. In contrast to SD-3, where blocks of data from each writer appeared in sequence, the data in SD-1 is scrambled. Writer identities for SD-1 is available and we used this information to unscramble the writers. We then split SD-1 in two: characters written by the first 250 writers went into our new training set. The remaining 250 writers were placed in our test set. Thus we had two sets with nearly 30,000 examples each. The new training set was completed with enough examples from SD-3, starting at pattern # 0, to make a full set of 60,000 training patterns. Similarly, the new test set was completed with SD-3 examples starting at pattern # 35,000 to make a full set with 60,000 test patterns. Only a subset of 10,000 test images (5,000 from SD-1 and 5,000 from SD-3) is available on this site. The full 60,000 sample training set is available.\n",
      "\n",
      "Downloaded from openml.org.\n"
     ]
    }
   ],
   "source": [
    "print(mnist_sklearn.DESCR)"
   ]
  },
  {
   "cell_type": "code",
   "execution_count": 68,
   "metadata": {},
   "outputs": [],
   "source": [
    "X = torch.tensor(mnist_sklearn.data, dtype=torch.float)\n",
    "y = torch.tensor([int(v) for v in mnist_sklearn.target])\n",
    "mnist = data.TensorDataset(X, y)"
   ]
  },
  {
   "cell_type": "markdown",
   "metadata": {},
   "source": [
    "Lets inspect some examples. The digit in the top-right corner of each image is not a part of the image itself, but rather the label of the image, displayed using `ax.text` in the code below. For the visualisation we use `matplotlib`, a library underlying the `seaborn` library."
   ]
  },
  {
   "cell_type": "code",
   "execution_count": 69,
   "metadata": {},
   "outputs": [
    {
     "data": {
      "image/png": "[encoded data removed]",
      "text/plain": [
       "<Figure size 400x400 with 16 Axes>"
      ]
     },
     "metadata": {},
     "output_type": "display_data"
    }
   ],
   "source": [
    "import matplotlib.pyplot as plt\n",
    "\n",
    "fig = plt.figure(figsize = (4,4))\n",
    "fig.subplots_adjust(left=0, right=1, bottom=0, top=1, hspace=0.05, wspace=0.05)\n",
    "for i in range(16):\n",
    "    ax = fig.add_subplot(4, 4, i+1, xticks=[], yticks=[])\n",
    "    ax.imshow(mnist[i][0].reshape(28, 28),cmap=plt.cm.binary,interpolation='nearest')\n",
    "    ax.text(0, 7, str(mnist[i][1].item()))"
   ]
  },
  {
   "cell_type": "markdown",
   "metadata": {},
   "source": [
    "We again split the dataset into three subsets."
   ]
  },
  {
   "cell_type": "code",
   "execution_count": 70,
   "metadata": {},
   "outputs": [
    {
     "name": "stdout",
     "output_type": "stream",
     "text": [
      "Training: 49000\n",
      "Validation: 7000\n",
      "Test: 14000\n"
     ]
    }
   ],
   "source": [
    "training, validation, test = data.random_split(mnist, [0.7, 0.1, 0.2], generator=torch.Generator().manual_seed(42))\n",
    "\n",
    "print(\"Training:\", len(training))\n",
    "print(\"Validation:\", len(validation))\n",
    "print(\"Test:\", len(test))"
   ]
  },
  {
   "cell_type": "markdown",
   "metadata": {},
   "source": [
    "## Logistic regression"
   ]
  },
  {
   "cell_type": "markdown",
   "metadata": {},
   "source": [
    "We create a simple logisitc regression model, learning on the raw pixels of the images. The matrix of the feature weights (here: pixels) is of the size $p \\times k$, i.e., $p$ weights for each of the $k$ classes. The model computes logits, i.e., the output of the logistic  regression **before** applying the softmax function. In the output, each row corresponds to a single example and each column to a single class. Should each row be normalized using the softmax function, each row would be a probability distribution."
   ]
  },
  {
   "cell_type": "code",
   "execution_count": 71,
   "metadata": {},
   "outputs": [],
   "source": [
    "p = 28*28\n",
    "k = 10\n",
    "model = nn.Linear(p, k)"
   ]
  },
  {
   "cell_type": "markdown",
   "metadata": {},
   "source": [
    "As the loss function we will use *cross entropy* and perform the optimization using the Adam optimizer. Observe that the optimizer gets the set of parameters to optimize. If you create a new model, you could reuse the old `loss_function`, but the optimizer must be created anew."
   ]
  },
  {
   "cell_type": "code",
   "execution_count": 72,
   "metadata": {},
   "outputs": [],
   "source": [
    "loss_function = torch.nn.CrossEntropyLoss()\n",
    "opt = optim.Adam(model.parameters())"
   ]
  },
  {
   "cell_type": "markdown",
   "metadata": {},
   "source": [
    "We create an auxiliary function to compute the classification accuracy. For each row of the `logits` matrix we select the number of the column with the highest value and compare it with the expected (true) value. This way we obtain a vector of 0s and 1s, which are then averaged to compute the accuracy."
   ]
  },
  {
   "cell_type": "code",
   "execution_count": 73,
   "metadata": {},
   "outputs": [],
   "source": [
    "def compute_acc(logits, expected):\n",
    "    pred = logits.argmax(dim=1)\n",
    "    return (pred == expected).type(torch.float).mean()"
   ]
  },
  {
   "cell_type": "markdown",
   "metadata": {},
   "source": [
    "The remainder is very similar to the linear regression: we create a data loder (`torch.utils.data.DataLoader`)  to handle shuffling and creating batches for us, and then during each of the `n_epoch` epochs, we enable the training mode (`model.train()`), and then iterate over the loader, computing loss and gradients. Then we evaluate by computing the accuracy on the validation set."
   ]
  },
  {
   "cell_type": "code",
   "execution_count": 74,
   "metadata": {},
   "outputs": [],
   "source": [
    "loss_values = []\n",
    "acc_values = []\n",
    "batch_size = 512\n",
    "n_epoch = 10"
   ]
  },
  {
   "cell_type": "code",
   "execution_count": 75,
   "metadata": {},
   "outputs": [
    {
     "name": "stdout",
     "output_type": "stream",
     "text": [
      "Epoch: 0 accuracy: 0.8618571162223816\n",
      "Epoch: 1 accuracy: 0.8781428337097168\n",
      "Epoch: 2 accuracy: 0.8878571391105652\n",
      "Epoch: 3 accuracy: 0.890999972820282\n",
      "Epoch: 4 accuracy: 0.8837142586708069\n",
      "Epoch: 5 accuracy: 0.87842857837677\n",
      "Epoch: 6 accuracy: 0.8855714201927185\n",
      "Epoch: 7 accuracy: 0.8937143087387085\n",
      "Epoch: 8 accuracy: 0.8960000276565552\n",
      "Epoch: 9 accuracy: 0.8938571214675903\n"
     ]
    }
   ],
   "source": [
    "loader = data.DataLoader(training, batch_size=batch_size, shuffle=True)    \n",
    "\n",
    "for epoch in range(n_epoch):    \n",
    "    model.train()    \n",
    "    epoch_loss = []\n",
    "    for X_batch, y_batch in loader:\n",
    "        opt.zero_grad()\n",
    "        logits = model(X_batch)\n",
    "        loss = loss_function(logits, y_batch)\n",
    "        loss.backward()\n",
    "        opt.step()        \n",
    "        epoch_loss.append(loss.detach())\n",
    "    model.eval()\n",
    "    loss_values.append(torch.tensor(epoch_loss).mean())\n",
    "    logits = model(validation[:][0])\n",
    "    acc = compute_acc(logits, validation[:][1]).item()\n",
    "    print(\"Epoch:\", epoch, \"accuracy:\", acc)\n",
    "    acc_values.append(acc)"
   ]
  },
  {
   "cell_type": "code",
   "execution_count": 76,
   "metadata": {},
   "outputs": [
    {
     "data": {
      "image/png": "[encoded data removed]",
      "text/plain": [
       "<Figure size 640x480 with 1 Axes>"
      ]
     },
     "metadata": {},
     "output_type": "display_data"
    },
    {
     "data": {
      "image/png": "[encoded data removed]",
      "text/plain": [
       "<Figure size 640x480 with 1 Axes>"
      ]
     },
     "metadata": {},
     "output_type": "display_data"
    }
   ],
   "source": [
    "plt.title(\"Loss on the training set\")\n",
    "plt.plot(loss_values)\n",
    "plt.show()\n",
    "plt.title(\"Accuracy on the validation set\")\n",
    "plt.plot(acc_values)\n",
    "plt.show()"
   ]
  },
  {
   "cell_type": "markdown",
   "metadata": {},
   "source": [
    "Observe that the first epoch already gets us very high and then the improvements are very small."
   ]
  },
  {
   "cell_type": "markdown",
   "metadata": {},
   "source": [
    "## Task 2: Learning framework"
   ]
  },
  {
   "cell_type": "markdown",
   "metadata": {},
   "source": [
    "The function `train_classifier` below is supposed to be an integrated tool for fitting parameters of the given `model`. Complete the function below so that it:\n",
    "\n",
    "* Trains `model` using the training set (`training`) for at most `max_epochs` using the mini-batches of the `batch_size` size\n",
    "* Implements early stopping using the validation set (`validation`), stopping if there is no improvement on accuracy for `no_improvement` epochs\n",
    "* Returns a list such that i-th element of this list is the accuracy on the validation set after the i-th epoch of training\n",
    "* Use the cross-entropy loss and the Adam optimizer for training, but make sure you don't reuse the global objects `loss_function` and `opt`\n",
    "* Remember to switch between the training mode (`model.train()`) and the evaluation mode (`model.eval()`)"
   ]
  },
  {
   "cell_type": "code",
   "execution_count": 87,
   "metadata": {},
   "outputs": [],
   "source": [
    "def train_classifier(model: nn.Module,        \n",
    "              training: data.Dataset, \n",
    "              validation: data.Dataset,\n",
    "              no_improvement: int = 10,\n",
    "              batch_size: int = 128,\n",
    "              max_epochs: int = 100_000):\n",
    "    loss_function = torch.nn.CrossEntropyLoss()\n",
    "    opt = optim.Adam(model.parameters())\n",
    "    loader = data.DataLoader(training, batch_size = batch_size, shuffle = True)\n",
    "    accuracies = []\n",
    "    best_epoch = 0\n",
    "    best_acc = 0\n",
    "    \n",
    "    for epoch in range(max_epochs):\n",
    "        #1. train model\n",
    "        model.train()\n",
    "        epoch_loss = []\n",
    "        for X_batch, y_batch in loader:\n",
    "            opt.zero_grad()\n",
    "            logits = model(X_batch)\n",
    "            loss = loss_function(logits, y_batch)\n",
    "            loss.backward()\n",
    "            opt.step()\n",
    "            epoch_loss.append(loss.detach())\n",
    "        model.eval()\n",
    "        loss_values.append(torch.tensor(epoch_loss).mean())\n",
    "        logits = model(validation[:][0])\n",
    "        acc = compute_acc(logits, validation[:][1]).item()\n",
    "        accuracies.append(acc)\n",
    "        #2. early stopping condition\n",
    "        if (acc > best_acc):\n",
    "            best_acc = acc\n",
    "            best_epoch = epoch\n",
    "            \n",
    "        if (epoch - best_epoch >= no_improvement):\n",
    "            break\n",
    "    #3. return a list of accuracies\n",
    "    return accuracies"
   ]
  },
  {
   "cell_type": "markdown",
   "metadata": {},
   "source": [
    "Test it by training logistic regression on the MNIST dataset and then plotting the accuracies. The best accuracy should be on the 10-th epoch from the end."
   ]
  },
  {
   "cell_type": "code",
   "execution_count": 88,
   "metadata": {},
   "outputs": [
    {
     "name": "stdout",
     "output_type": "stream",
     "text": [
      "[0.8611428737640381, 0.8427143096923828, 0.8882856965065002, 0.8932856917381287, 0.8728571534156799, 0.8851428627967834, 0.8985714316368103, 0.8911428451538086, 0.8604285717010498, 0.8962857127189636, 0.8728571534156799, 0.8988571166992188, 0.892714262008667, 0.9062857031822205, 0.8967142701148987, 0.87628573179245, 0.87842857837677, 0.8602856993675232, 0.8665714263916016, 0.899142861366272, 0.8892857432365417, 0.8921428322792053, 0.8785714507102966, 0.8901428580284119]\n"
     ]
    }
   ],
   "source": [
    "model = nn.Linear(28*28, 10)\n",
    "accuracies = train_classifier(model, training, validation)\n",
    "print(accuracies)"
   ]
  },
  {
   "cell_type": "code",
   "execution_count": 89,
   "metadata": {},
   "outputs": [
    {
     "data": {
      "image/png": "[encoded data removed]",
      "text/plain": [
       "<Figure size 500x500 with 1 Axes>"
      ]
     },
     "metadata": {},
     "output_type": "display_data"
    }
   ],
   "source": [
    "_ = sns.relplot(x=range(len(accuracies)), y=accuracies, kind=\"line\")"
   ]
  },
  {
   "cell_type": "markdown",
   "metadata": {},
   "source": [
    "## Task 3: A neural network with a hidden layer"
   ]
  },
  {
   "cell_type": "markdown",
   "metadata": {},
   "source": [
    "Complete the cell below to create a neural network consisting of the following layers:\n",
    "  1. Linear layer (`nn.Linear`) having `28*28` inputs and `300` outputs\n",
    "  2. ReLU activation function (`nn.ReLU`)\n",
    "  3. Dropout layer (`nn.Dropout`) with the probability of `0.5`\n",
    "  4. Linear layer (`nn.Linear`) having `10` outputs\n",
    "To combine layers into a single model use `nn.Sequential` \n",
    "\n",
    "If you haven't found it so far, the documentation for the `torch.nn` module may now be of use: [https://pytorch.org/docs/stable/nn.html](https://pytorch.org/docs/stable/nn.html)"
   ]
  },
  {
   "cell_type": "code",
   "execution_count": 91,
   "metadata": {},
   "outputs": [],
   "source": [
    "model = nn.Sequential(nn.Linear(28*28, 300), nn.ReLU(), nn.Dropout(0.5), nn.Linear(300, 10))"
   ]
  },
  {
   "cell_type": "code",
   "execution_count": 92,
   "metadata": {},
   "outputs": [
    {
     "name": "stdout",
     "output_type": "stream",
     "text": [
      "The best accurac on the validation set: 0.9674285650253296\n"
     ]
    }
   ],
   "source": [
    "accuracies = train_classifier(model, training, validation)\n",
    "print(\"The best accuracy on the validation set:\", max(accuracies))"
   ]
  },
  {
   "cell_type": "markdown",
   "metadata": {},
   "source": [
    "## Task 4: Play with it!"
   ]
  },
  {
   "cell_type": "markdown",
   "metadata": {},
   "source": [
    "Construct at least 6 substantially different models (use common sense - e.g., changing the number of neurons from 300 to 301 is not a substantial change). Make sure you not only consider different hyperparameters (e.g., changing the number of neurons, changing the activation function), but also different architectures (e.g., adding/removing a layer). Train them using `train_classifier` and evaluate them all on the test subset of MNIST using the accuracy measure. **Print out these accuracies and indicate which model is the best.**\n",
    "\n",
    "If you want and can you can use other types of layers (e.g., convolutional layers), but please stick to what's available in PyTorch. The current state of the art on the MNIST dataset is around 99.9% accuracy [https://paperswithcode.com/sota/image-classification-on-mnist](https://paperswithcode.com/sota/image-classification-on-mnist)."
   ]
  },
  {
   "cell_type": "code",
   "execution_count": 94,
   "metadata": {},
   "outputs": [
    {
     "name": "stdout",
     "output_type": "stream",
     "text": [
      "The best accurac on the validation set: 0.9752857089042664\n"
     ]
    }
   ],
   "source": [
    "#changing dropout to softplus\n",
    "model = nn.Sequential(nn.Linear(28*28, 300), nn.ReLU(), nn.Softplus(), nn.Linear(300, 10))\n",
    "\n",
    "accuracies = train_classifier(model, training, validation)\n",
    "print(\"The best accuracy on the validation set:\", max(accuracies))"
   ]
  },
  {
   "cell_type": "code",
   "execution_count": 95,
   "metadata": {},
   "outputs": [
    {
     "name": "stdout",
     "output_type": "stream",
     "text": [
      "The best accuracy on the validation set: 0.8920000195503235\n"
     ]
    }
   ],
   "source": [
    "#removing ReLU and dropout\n",
    "model = nn.Sequential(nn.Linear(28*28, 300), nn.Linear(300, 10))\n",
    "\n",
    "accuracies = train_classifier(model, training, validation)\n",
    "print(\"The best accuracy on the validation set:\", max(accuracies))"
   ]
  },
  {
   "cell_type": "code",
   "execution_count": 96,
   "metadata": {},
   "outputs": [
    {
     "name": "stdout",
     "output_type": "stream",
     "text": [
      "The best accuracy on the validation set: 0.9731428623199463\n"
     ]
    }
   ],
   "source": [
    "#ReLU and dropout -> LeakyReLU, Sigmoid, Softplus\n",
    "model = nn.Sequential(nn.Linear(28*28, 300), nn.LeakyReLU(), nn.Sigmoid(), nn.Softplus(), nn.Linear(300, 10))\n",
    "\n",
    "accuracies = train_classifier(model, training, validation)\n",
    "print(\"The best accuracy on the validation set:\", max(accuracies))"
   ]
  },
  {
   "cell_type": "code",
   "execution_count": 97,
   "metadata": {},
   "outputs": [
    {
     "name": "stdout",
     "output_type": "stream",
     "text": [
      "The best accuracy on the validation set: 0.9391428828239441\n"
     ]
    }
   ],
   "source": [
    "#changing parameters significantly\n",
    "model = nn.Sequential(nn.Linear(28*28, 30), nn.ReLU(), nn.Dropout(0.1), nn.Linear(30, 10))\n",
    "\n",
    "accuracies = train_classifier(model, training, validation)\n",
    "print(\"The best accuracy on the validation set:\", max(accuracies))"
   ]
  },
  {
   "cell_type": "code",
   "execution_count": 98,
   "metadata": {},
   "outputs": [
    {
     "name": "stdout",
     "output_type": "stream",
     "text": [
      "The best accuracy on the validation set: 0.8989999890327454\n"
     ]
    }
   ],
   "source": [
    "#removing only ReLU and see what happens\n",
    "model = nn.Sequential(nn.Linear(28*28, 300), nn.Dropout(0.5), nn.Linear(300, 10))\n",
    "\n",
    "accuracies = train_classifier(model, training, validation)\n",
    "print(\"The best accuracy on the validation set:\", max(accuracies))"
   ]
  },
  {
   "cell_type": "code",
   "execution_count": 99,
   "metadata": {},
   "outputs": [
    {
     "name": "stdout",
     "output_type": "stream",
     "text": [
      "The best accuracy on the validation set: 0.968999981880188\n"
     ]
    }
   ],
   "source": [
    "#changing order: ReLU, dropout -> dropout, ReLU\n",
    "model = nn.Sequential(nn.Linear(28*28, 300), nn.Dropout(0.5), nn.ReLU(), nn.Linear(300, 10))\n",
    "\n",
    "accuracies = train_classifier(model, training, validation)\n",
    "print(\"The best accuracy on the validation set:\", max(accuracies))"
   ]
  },
  {
   "cell_type": "markdown",
   "metadata": {},
   "source": [
    "----\n",
    "Some final remarks:\n",
    "* PyTorch also offers autoloading some datasets, see e.g. [https://pytorch.org/vision/stable/datasets.html](https://pytorch.org/vision/stable/datasets.html)\n",
    "* Early stopping should also save the parameters of the best model and restore them upon termination. I decided to skip this part to avoid adding yet another opaque piece. If you are interested see [https://pytorch.org/tutorials/beginner/basics/saveloadrun_tutorial.html](https://pytorch.org/tutorials/beginner/basics/saveloadrun_tutorial.html)\n",
    "* As all deep learning libraries, PyTorch offers support for offloading computation to GPU. In practice the difference is tremendous, but you need a graphics card supporting CUDA, i.e., an Nvidia card. Since this is a rather restrictive requirement, I elected not to introduce this aspect. If you are interested, see e.g. [https://pytorch.org/tutorials/beginner/basics/buildmodel_tutorial.html](https://pytorch.org/tutorials/beginner/basics/buildmodel_tutorial.html). If you don't have an Nvidia card, there are services out there that will allow you to access one for free for a short time, e.g., Google Colab [https://colab.research.google.com/](https://colab.research.google.com/) or Paperspace Gradient [https://www.paperspace.com/gradient/free-gpu](https://www.paperspace.com/gradient/free-gpu).\n",
    "* *Layer* is a vague term. It could be argued that neither dropout nor relu by themselves are layers, but rather they form a single layer together with `nn.Linear`. In here, I elected to follow the same naming convention that is used in the PyTorch documentation."
   ]
  }
 ],
 "metadata": {
  "kernelspec": {
   "display_name": "Python 3 (ipykernel)",
   "language": "python",
   "name": "python3"
  },
  "language_info": {
   "codemirror_mode": {
    "name": "ipython",
    "version": 3
   },
   "file_extension": ".py",
   "mimetype": "text/x-python",
   "name": "python",
   "nbconvert_exporter": "python",
   "pygments_lexer": "ipython3",
   "version": "3.10.8"
  }
 },
 "nbformat": 4,
 "nbformat_minor": 4
}
