{
 "cells": [
  {
   "cell_type": "markdown",
   "metadata": {},
   "source": [
    "# Constraint satisfaction problem"
   ]
  },
  {
   "cell_type": "markdown",
   "metadata": {},
   "source": [
    "In the previous tasks the state was opaque: an algorithm could execute an action and transform a state to another state, but that was it. It could not depend in its search on the details of a state, because the state representation was different from problem to problem. In CSP this is no longer true: the state always consists of an assignment of values over some domains to variables. This enables an algorithm to interact with the state directly, not only through opaque actions. \n",
    "\n",
    "Allowed assignments are limited by constraints in the problem and broadly speaking they can be divided into three groups:\n",
    "\n",
    "* *Unary constraints* each concerning only a single variable (e.g., $x>0$)\n",
    "* *Binary constraints* relating two variables to each other (e.g., $x>y$)\n",
    "* *General constraints* concerning more than two variables at once\n",
    "\n",
    "In general, the shape of constraints is unrestricted and we are not limited to numeric domains and constraints in the form of inequalities. In principle, one could employ arbitrary boolean functions as constraints.\n",
    "\n",
    "The following class `CSP` is a very limited representation of such a problem capable only of handling:\n",
    "\n",
    "* finite domains that can be materialized (e.g., the set of all 32-bit integers is doable in theory; the set of all 64-bit integers is out of reach) \n",
    "* unary constraints by setting the domain of a variable appropriately;\n",
    "* binary constraints defined in terms of Python's operators `==`, `!=`, `<`, `<=`, `>` and `>=` such that both sides are variables.\n",
    "\n",
    "About its methods:\n",
    "\n",
    "* The constructor (`__init__`) requires no arguments.\n",
    "* `addVariable` requires two arguments: \n",
    "    * `var` - a variable (a string representing its name, but really, it could be any object);\n",
    "    * `domain` - a collection of the allowed values for the variable\n",
    "* `addBinaryConstraint` also requires three arguments:\n",
    "    * `var1` - a variable, the left-hand side of the constraint\n",
    "    * `op` - an operator (one of the following strings: `'=='`, `'!='`, `'<'`, `'<='`, `'>'`, `'>='`)\n",
    "    * `var2` - a variable, the right-hand side of the constraint\n",
    "* `verify` is used to verify whether the relation given by the second argument `op` holds between the values given as the first argument `left` and the third argument `right`. Returns `True` if it does and `False` otherwise.\n",
    "* `is_complete` gets a single argument: a dictionary representing an assignment of values to variables. From now on, we call such a dictionary an *assignment*. It returns `True` if all the variables of the problem are present in the dictionary, and `False` otherwise.\n",
    "* `is_consistent` also requries an assignment. It returns `True` if all the values in the assignment are such that they come from the respecitve domains, and no binary constrain is violated (but if the assignment is not complete then some may be unfulfilled)."
   ]
  },
  {
   "cell_type": "code",
   "execution_count": 1,
   "metadata": {},
   "outputs": [],
   "source": [
    "class CSP:\n",
    "    def __init__(self):\n",
    "        self.domains = {}\n",
    "        self.binary = []\n",
    "    \n",
    "    def addVariable(self, var, domain):        \n",
    "        assert var not in self.domains\n",
    "        self.domains[var] = set(domain)\n",
    "        \n",
    "    def addBinaryConstraint(self, var1, operator, var2):\n",
    "        assert var1 in self.domains\n",
    "        assert var2 in self.domains\n",
    "        c = (var1, operator, var2)\n",
    "        self.binary.append(c)      \n",
    "        \n",
    "    def verify(self, left, op, right):\n",
    "        if op[0] == '=':\n",
    "            return left == right\n",
    "        if op == '!=':\n",
    "            return left != right\n",
    "        if op == '<':\n",
    "            return left < right\n",
    "        if op == '<=':\n",
    "            return left <= right\n",
    "        if op == '>':\n",
    "            return left > right\n",
    "        if op == '>=':\n",
    "            return left >= right\n",
    "        \n",
    "    def is_complete(self, assignment):\n",
    "        return self.domains.keys() <= assignment.keys() \n",
    "        \n",
    "    def is_consistent(self, assignment):\n",
    "        for var, value in assignment.items():            \n",
    "            if value not in self.domains[var]:\n",
    "                return False\n",
    "        for var1, op, var2 in self.binary:\n",
    "            if var1 in assignment and var2 in assignment:\n",
    "                if not self.verify(assignment[var1], op, assignment[var2]):\n",
    "                    return False\n",
    "        return True"
   ]
  },
  {
   "cell_type": "markdown",
   "metadata": {},
   "source": [
    "## Coloring Australia"
   ]
  },
  {
   "cell_type": "markdown",
   "metadata": {},
   "source": [
    "Lets model a map coloring problem. In particular, we'll color the following map of Australia. It can be simplified to a graph presented in the right-hand side of the picture below.\n",
    "\n",
    "![](aima-images/fig_6_1.png)"
   ]
  },
  {
   "cell_type": "markdown",
   "metadata": {},
   "source": [
    "We begin by creating a new problem in the variable `australia` over the domain consisting of three values: `'R'` statnding for the color red, `'G'` standing for green and `'B'` standing for blue. Of course the particular symbols used are not relevant. There are 7 teritories, so we add 7 variables to the problem."
   ]
  },
  {
   "cell_type": "code",
   "execution_count": 2,
   "metadata": {},
   "outputs": [],
   "source": [
    "australia = CSP()\n",
    "australia.addVariable('WA', {'R', 'G', 'B'})\n",
    "australia.addVariable('NT', {'R', 'G', 'B'})\n",
    "australia.addVariable('SA', {'R', 'G', 'B'})\n",
    "australia.addVariable('Q', {'R', 'G', 'B'})\n",
    "australia.addVariable('NSW', {'R', 'G', 'B'})\n",
    "australia.addVariable('V', {'R', 'G', 'B'})\n",
    "australia.addVariable('T', {'R', 'G', 'B'})"
   ]
  },
  {
   "cell_type": "markdown",
   "metadata": {},
   "source": [
    "Any two teritories of Australia sharing a border should be colored using different colours. We thus define 9 binary constraints."
   ]
  },
  {
   "cell_type": "code",
   "execution_count": 3,
   "metadata": {},
   "outputs": [],
   "source": [
    "australia.addBinaryConstraint('WA', '!=', 'NT')\n",
    "australia.addBinaryConstraint('WA', '!=', 'SA')\n",
    "australia.addBinaryConstraint('NT', '!=', 'SA')\n",
    "australia.addBinaryConstraint('NT', '!=', 'Q')\n",
    "australia.addBinaryConstraint('SA', '!=', 'Q')\n",
    "australia.addBinaryConstraint('SA', '!=', 'NSW')\n",
    "australia.addBinaryConstraint('SA', '!=', 'V')\n",
    "australia.addBinaryConstraint('Q', '!=', 'NSW')\n",
    "australia.addBinaryConstraint('NSW', '!=', 'V')"
   ]
  },
  {
   "cell_type": "markdown",
   "metadata": {},
   "source": [
    "Let's see how the `verify` method works."
   ]
  },
  {
   "cell_type": "code",
   "execution_count": 4,
   "metadata": {},
   "outputs": [
    {
     "name": "stdout",
     "output_type": "stream",
     "text": [
      "Is G=G? True\n",
      "Is 5<7? True\n",
      "Is 5>=7? False\n"
     ]
    }
   ],
   "source": [
    "print(\"Is G=G?\", australia.verify('G', '==', 'G'))\n",
    "print(\"Is 5<7?\", australia.verify(5, '<', 7))\n",
    "print(\"Is 5>=7?\", australia.verify(5, '>=', 7))"
   ]
  },
  {
   "cell_type": "markdown",
   "metadata": {},
   "source": [
    "Lets now consider an assignment such that *Western Australia* is red and the rest is unspecified. Is it a consistent assignment?"
   ]
  },
  {
   "cell_type": "code",
   "execution_count": 5,
   "metadata": {},
   "outputs": [
    {
     "data": {
      "text/plain": [
       "True"
      ]
     },
     "execution_count": 5,
     "metadata": {},
     "output_type": "execute_result"
    }
   ],
   "source": [
    "australia.is_consistent({'WA': 'R'})"
   ]
  },
  {
   "cell_type": "markdown",
   "metadata": {},
   "source": [
    "Is it a complete assignment?"
   ]
  },
  {
   "cell_type": "code",
   "execution_count": 6,
   "metadata": {},
   "outputs": [
    {
     "data": {
      "text/plain": [
       "False"
      ]
     },
     "execution_count": 6,
     "metadata": {},
     "output_type": "execute_result"
    }
   ],
   "source": [
    "australia.is_complete({'WA': 'R'})"
   ]
  },
  {
   "cell_type": "markdown",
   "metadata": {},
   "source": [
    "As expected it didn't work: there are still 9 unfulfiled constraints. So lets extend the solution."
   ]
  },
  {
   "cell_type": "code",
   "execution_count": 7,
   "metadata": {},
   "outputs": [
    {
     "name": "stdout",
     "output_type": "stream",
     "text": [
      "Is consistent? True\n",
      "Is complete? False\n"
     ]
    }
   ],
   "source": [
    "assignment = {'WA': 'R', 'Q': 'R', 'V': 'R', 'NT': 'B', 'NSW': 'B', 'SA': 'G'}\n",
    "print(\"Is consistent?\", australia.is_consistent(assignment))\n",
    "print(\"Is complete?\", australia.is_complete(assignment))"
   ]
  },
  {
   "cell_type": "markdown",
   "metadata": {},
   "source": [
    "Now it almost works: all the constraints are satisfied, but the solution is still not complete, as Tasmania is still colorless."
   ]
  },
  {
   "cell_type": "code",
   "execution_count": 8,
   "metadata": {},
   "outputs": [
    {
     "name": "stdout",
     "output_type": "stream",
     "text": [
      "Is consistent? True\n",
      "Is complete? True\n"
     ]
    }
   ],
   "source": [
    "assignment = {'WA': 'R', 'Q': 'R', 'V': 'R', 'NT': 'B', 'NSW': 'B', 'SA': 'G', 'T': 'B'}\n",
    "print(\"Is consistent?\", australia.is_consistent(assignment))\n",
    "print(\"Is complete?\", australia.is_complete(assignment))"
   ]
  },
  {
   "cell_type": "markdown",
   "metadata": {},
   "source": [
    "Finally, we have manually collored the map of Australia! Now let's make computer do this for us."
   ]
  },
  {
   "cell_type": "markdown",
   "metadata": {},
   "source": [
    "## Task 1: Backtracking"
   ]
  },
  {
   "cell_type": "markdown",
   "metadata": {},
   "source": [
    "Complete the following cell of code by implementing the recursive backtracking algorithm. Basically, it is a recursive DFS where an action is assigning a value to a variable. Avoid making copies of assignments, instead operate on a single assignment, and update it accordingly. Increment `self.counter` every time you check wheter an assigment is a solution (i.e., is consistent and complete). Use the provided methods `select_unassigned_variable` and `order_domain_values` to, respectively, get a next variable to assign a value to, and to get the list of allowed values for the variable. `solve` should return a solution (i.e., a complete, consistent assignment) or `None`."
   ]
  },
  {
   "cell_type": "code",
   "execution_count": 9,
   "metadata": {},
   "outputs": [],
   "source": [
    "class RecursiveBacktracking:\n",
    "    def __init__(self, csp):\n",
    "        self.csp = csp\n",
    "        self.counter = 0\n",
    "        \n",
    "    def select_unassigned_variable(self, assignment): #single element\n",
    "        for var in self.csp.domains.keys():\n",
    "            if var not in assignment:\n",
    "                return var\n",
    "        return None\n",
    "    \n",
    "    def order_domain_values(self, variable, assignment): #set\n",
    "        return self.csp.domains[variable]\n",
    "\n",
    "    def solve(self, assignment):\n",
    "        if (self.csp.is_complete(assignment)):\n",
    "            return assignment\n",
    "        to_assign = self.select_unassigned_variable(assignment)\n",
    "        for value in self.order_domain_values(to_assign, assignment):\n",
    "            assignment[to_assign] = value\n",
    "            self.counter +=1\n",
    "            if (self.csp.is_consistent(assignment)):\n",
    "                assignment = self.solve(assignment)\n",
    "                if (assignment is not None):\n",
    "                    return assignment\n",
    "                assignment.pop(to_assign)\n",
    "        return None"
   ]
  },
  {
   "cell_type": "markdown",
   "metadata": {},
   "source": [
    "Let's test it on the Australia problem! In the cell below you should get a consistent, complete assignment, i.e., a solution to the problem."
   ]
  },
  {
   "cell_type": "code",
   "execution_count": 10,
   "metadata": {},
   "outputs": [
    {
     "name": "stdout",
     "output_type": "stream",
     "text": [
      "Assignment {'WA': 'R', 'NT': 'G', 'SA': 'B', 'Q': 'R', 'NSW': 'G', 'V': 'R', 'T': 'R'}\n",
      "Is consistent? True\n",
      "Is complete? True\n",
      "# considered assignments 11\n"
     ]
    }
   ],
   "source": [
    "solver = RecursiveBacktracking(australia)\n",
    "assignment = solver.solve({})\n",
    "print(\"Assignment\", assignment)\n",
    "print(\"Is consistent?\", australia.is_consistent(assignment))\n",
    "print(\"Is complete?\", australia.is_complete(assignment))\n",
    "print(\"# considered assignments\", solver.counter)"
   ]
  },
  {
   "cell_type": "markdown",
   "metadata": {},
   "source": [
    "## Task 2: Extend `RecursiveBacktracking` with the MRV and degree heuristics"
   ]
  },
  {
   "cell_type": "markdown",
   "metadata": {},
   "source": [
    "Modify your `RecursiveBacktracking` to include the MRV (minimum remaining values) heuristics and the degree heuristics. Implement them in the appropriate places below in the class `RecursiveBacktrackingWithHeuristics`. If you want, you can also implement the least constraining value heuristics, but this is not mandatory. Follow the same assumptions as for `RecursiveBacktracking`, so expose the main backtracking algorithm as the `solve` and keep track of the number of considered assignments in the `counter` variable."
   ]
  },
  {
   "cell_type": "code",
   "execution_count": 11,
   "metadata": {},
   "outputs": [],
   "source": [
    "import copy\n",
    "\n",
    "class RecursiveBacktrackingWithHeuristics:\n",
    "    def __init__(self, csp):\n",
    "        self.csp = csp\n",
    "        self.counter = 0\n",
    "    \n",
    "    def calculateNotAssignedNeighbours(self, assignment): #calculating neighbours which have not been assigned yet for each node\n",
    "        neigh = {}\n",
    "        nodes = list(assignment.keys())\n",
    "        cons = self.csp.binary[:] #all constraints\n",
    "        for i in self.csp.domains.keys():\n",
    "            if (i in nodes):\n",
    "                continue\n",
    "            for left, op, right in cons:\n",
    "                if (i not in neigh):\n",
    "                    neigh[i] = []\n",
    "                if (i == left and right not in assignment.keys()):\n",
    "                    neigh[i].append(right)\n",
    "                elif (i == right and left not in assignment.keys()):\n",
    "                    neigh[i].append(left)\n",
    "        return neigh\n",
    "    \n",
    "    def calculate_legal_values (self, assignment):\n",
    "        new_domain = copy.deepcopy(self.csp.domains)\n",
    "        for i in assignment.keys():\n",
    "            new_domain.pop(i)\n",
    "        neigh = self.calculateNotAssignedNeighbours({})\n",
    "        for i in list(self.csp.domains.keys()):\n",
    "            if (i in assignment.keys()):\n",
    "                continue\n",
    "            else:\n",
    "                curr_neigh = neigh[i]\n",
    "                for j in curr_neigh:\n",
    "                    if (j in assignment.keys()):\n",
    "                        new_domain[i].discard(assignment[j])\n",
    "        return new_domain\n",
    "        \n",
    "    def calculate_mini(self, some_list):\n",
    "        mini = len(some_list[0][1])\n",
    "        list_of_minis = []\n",
    "        for i in some_list:\n",
    "            if(len(i[1]) < mini):\n",
    "                mini = len(i[1])\n",
    "                list_of_minis = [i]\n",
    "            elif(len(i[1]) == mini):\n",
    "                list_of_minis.append(i)\n",
    "        return (mini, list_of_minis)\n",
    "        \n",
    "    def calculate_maxi(self,some_dict):\n",
    "        maxi = 0\n",
    "        list_of_maxis = []\n",
    "        for i in some_dict.keys():\n",
    "            if(len(some_dict[i]) > maxi):\n",
    "                maxi = len(some_dict[i])\n",
    "                list_of_maxis = [i]\n",
    "            elif(len(some_dict[i]) ==maxi):\n",
    "                list_of_maxis.append(i)\n",
    "        return list_of_maxis[0]\n",
    "    \n",
    "    def select_unassigned_variable(self, assignment):\n",
    "        unassigned = list(self.calculate_legal_values(assignment).items())\n",
    "        new_unassigned = []\n",
    "        for i, j in unassigned:\n",
    "            new_unassigned.append((i, len(j)))\n",
    "        mini, list_of_minis = self.calculate_mini(unassigned)\n",
    "        if (len(list_of_minis) == 1): #MRV and finish\n",
    "            return list_of_minis[0][0]\n",
    "        list_of_minis = [list_of_minis[i][0] for i in range(len(list_of_minis))]\n",
    "        const_on_current_variable = self.calculateNotAssignedNeighbours(assignment)\n",
    "        all_keys = list(const_on_current_variable.keys())\n",
    "        for i in all_keys:\n",
    "            if (i not in list_of_minis):\n",
    "                const_on_current_variable.pop(i)\n",
    "        to_assign = self.calculate_maxi(const_on_current_variable)\n",
    "        return to_assign\n",
    "        \n",
    "    def order_domain_values(self, variable, assignment):\n",
    "        neigh = self.calculate_legal_values(assignment)\n",
    "        return set(neigh[variable])\n",
    "        \n",
    "    def solve(self, assignment):\n",
    "        if (self.csp.is_complete(assignment)):\n",
    "            return assignment\n",
    "        to_assign = self.select_unassigned_variable(assignment)\n",
    "        for value in self.order_domain_values(to_assign, assignment):\n",
    "            assignment[to_assign] = value\n",
    "            self.counter +=1\n",
    "            if (self.csp.is_consistent(assignment)):\n",
    "                assignment = self.solve(assignment)\n",
    "                if (assignment is not None):\n",
    "                    return assignment\n",
    "                assignment.pop(to_assign)\n",
    "        return None"
   ]
  },
  {
   "cell_type": "markdown",
   "metadata": {},
   "source": [
    "Lets test your implementation by solving the problem of coloring Australia!"
   ]
  },
  {
   "cell_type": "code",
   "execution_count": 12,
   "metadata": {},
   "outputs": [
    {
     "name": "stdout",
     "output_type": "stream",
     "text": [
      "Assignment {'SA': 'R', 'NT': 'G', 'Q': 'B', 'NSW': 'G', 'WA': 'B', 'V': 'B', 'T': 'R'}\n",
      "Is consistent? True\n",
      "Is complete? True\n",
      "# considered assignments 7\n"
     ]
    }
   ],
   "source": [
    "solver = RecursiveBacktrackingWithHeuristics(australia)\n",
    "assignment = solver.solve({})\n",
    "print(\"Assignment\", assignment)\n",
    "print(\"Is consistent?\", australia.is_consistent(assignment))\n",
    "print(\"Is complete?\", australia.is_complete(assignment))\n",
    "print(\"# considered assignments\", solver.counter)"
   ]
  },
  {
   "cell_type": "markdown",
   "metadata": {},
   "source": [
    "**Compare the number of considered assignments for `RecursiveBacktracking` and `RecursiveBacktrackingWithHeuristics`. How do they differ? Why do you think is that?**"
   ]
  },
  {
   "cell_type": "markdown",
   "metadata": {},
   "source": [
    "RecursiveBactrackingWithHeuristics works better (7 assignments) than RecursiveBacktracking (11 assignments). The main difference between them is that RecursiveBacktracking assigns any value and then checks if it is correct and if not it backtracks. RecursiveBacktrackingWithHeuristics includes domain and checks which values are relevant and as a consequence it makes less assignments"
   ]
  },
  {
   "cell_type": "markdown",
   "metadata": {},
   "source": [
    "## Sudoku!\n",
    "\n",
    "Coloring Australia is really a bit boring. Lets deal with something more exciting: SUDOKU! I assume you know the rules, but if you don't, go look them up, spend some time solving a few puzzles and familiarize yourself with the puzzle.\n",
    "The cell below defines a string `puzzle` which represents a Sudoku puzzle from the picture below. A digit in `puzzle` corresponds to a digit in the puzzle, while an underscore `_` corresponds to a blank cell in the puzzle. For your convenience there's also variable `solution` containing the correct solution to this particular puzzle.\n",
    "\n",
    "![](aima-images/fig_6_4.png)"
   ]
  },
  {
   "cell_type": "code",
   "execution_count": 13,
   "metadata": {
    "scrolled": true
   },
   "outputs": [],
   "source": [
    "puzzle = '''\n",
    "__3_2_6__\n",
    "9__3_5__1\n",
    "__18_64__\n",
    "__81_29__\n",
    "7_______8\n",
    "__67_82__\n",
    "__26_95__\n",
    "8__2_3__9\n",
    "__5_1_3__\n",
    "'''"
   ]
  },
  {
   "cell_type": "code",
   "execution_count": 14,
   "metadata": {},
   "outputs": [],
   "source": [
    "solution = '''\n",
    "483921657\n",
    "967345821\n",
    "251876493\n",
    "548132976\n",
    "729564138\n",
    "136798245\n",
    "372689514\n",
    "814253769\n",
    "695417382\n",
    "'''"
   ]
  },
  {
   "cell_type": "markdown",
   "metadata": {},
   "source": [
    "## Task 3: Sudoku as CSP"
   ]
  },
  {
   "cell_type": "markdown",
   "metadata": {},
   "source": [
    "Using the string `puzzle` defined above write in the cell below code that will add all the necessary constraints to the CSP represented by the variable `sudoku`. If you can and want, write a parser that will construct the CSP from a string representation of the puzzle. Otherwise, you can construct the problem manually."
   ]
  },
  {
   "cell_type": "code",
   "execution_count": 15,
   "metadata": {},
   "outputs": [],
   "source": [
    "sudoku = CSP()\n",
    "\n",
    "letters = [chr(i) for i in range(ord('A'), ord('A')+9)]\n",
    "allNumbers = {'1', '2', '3', '4', '5', '6', '7', '8', '9'}\n",
    "\n",
    "#adding domain:\n",
    "for i in letters:\n",
    "    for j in range(9):\n",
    "        curr_tile = puzzle[(ord(i)-ord('A'))*10 + j + 1]\n",
    "        id = str(i + str(j+1))\n",
    "        if (curr_tile == '_'):\n",
    "            sudoku.addVariable(id, allNumbers)\n",
    "        else:\n",
    "            sudoku.addVariable(id, curr_tile)\n",
    "\n",
    "#adding constraints\n",
    "for i in letters:\n",
    "    for j in range (9):\n",
    "        id = str(i+str(j+1))\n",
    "        #in column\n",
    "        for l in letters:\n",
    "            new_id = str(l + id[1])\n",
    "            if (new_id != id and (new_id, '!=', id) not in sudoku.binary and (id, '!=', new_id) not in sudoku.binary):\n",
    "                sudoku.addBinaryConstraint(new_id, '!=', id)\n",
    "        #in row\n",
    "        for l in range(9):\n",
    "            new_id = str(id[0] + str(l+1))\n",
    "            if (new_id != id and (new_id, '!=', id) not in sudoku.binary and (id, '!=', new_id) not in sudoku.binary):\n",
    "                sudoku.addBinaryConstraint(new_id, '!=', id)\n",
    "        #define left upper corner of square:\n",
    "        x = chr(((ord(i) - ord('A'))//3)*3 + ord('A'))\n",
    "        y = (j//3)*3 + 1\n",
    "        for l in letters[letters.index(x) : letters.index(x)+3]:\n",
    "            for k in range (y, y+3):\n",
    "                new_id = l+str(k)\n",
    "                if (new_id != id and (new_id, '!=', id) not in sudoku.binary and (id, '!=', new_id) not in sudoku.binary):\n",
    "                    sudoku.addBinaryConstraint(new_id, '!=', id)"
   ]
  },
  {
   "cell_type": "markdown",
   "metadata": {},
   "source": [
    "Your `RecursiveBacktrackingWithHeuristics` should be able to handle this instance of sudoku with flying colors."
   ]
  },
  {
   "cell_type": "code",
   "execution_count": 16,
   "metadata": {},
   "outputs": [
    {
     "name": "stdout",
     "output_type": "stream",
     "text": [
      "CPU times: total: 1.94 s\n",
      "Wall time: 1.98 s\n",
      "Assignment {'A3': '3', 'B4': '3', 'C7': '4', 'D6': '2', 'E1': '7', 'H9': '9', 'I5': '1', 'F6': '8', 'G3': '2', 'A7': '6', 'C4': '8', 'E9': '8', 'B1': '9', 'I3': '5', 'D4': '1', 'F7': '2', 'G6': '9', 'A5': '2', 'H1': '8', 'B9': '1', 'C3': '1', 'D7': '9', 'F4': '7', 'H6': '3', 'G7': '5', 'D3': '8', 'I7': '3', 'E7': '1', 'B6': '5', 'F3': '6', 'G4': '6', 'C6': '6', 'H4': '2', 'E6': '4', 'E3': '9', 'H7': '7', 'G9': '4', 'I4': '4', 'I1': '6', 'H5': '5', 'I9': '2', 'I8': '8', 'G8': '1', 'G1': '3', 'G2': '7', 'I2': '9', 'A4': '9', 'C5': '7', 'B5': '4', 'B3': '7', 'B8': '2', 'H8': '6', 'A6': '1', 'B7': '8', 'B2': '6', 'E4': '5', 'E8': '3', 'E2': '2', 'C2': '5', 'F9': '5', 'F8': '4', 'A1': '4', 'D1': '5', 'A2': '8', 'C8': '9', 'C9': '3', 'D8': '7', 'F1': '1', 'G5': '8', 'D9': '6', 'D5': '3', 'F2': '3', 'A8': '5', 'D2': '4', 'E5': '6', 'H2': '1', 'A9': '7', 'C1': '2', 'F5': '9', 'H3': '4', 'I6': '7'}\n",
      "Is consistent? True\n",
      "Is complete? True\n",
      "# considered assignments 81\n"
     ]
    }
   ],
   "source": [
    "solver = RecursiveBacktrackingWithHeuristics(sudoku)\n",
    "assignment = %time solver.solve({})\n",
    "print(\"Assignment\", assignment)\n",
    "print(\"Is consistent?\", sudoku.is_consistent(assignment))\n",
    "print(\"Is complete?\", sudoku.is_complete(assignment))\n",
    "print(\"# considered assignments\", solver.counter) "
   ]
  },
  {
   "cell_type": "markdown",
   "metadata": {},
   "source": [
    "------------\n",
    "The pictures are from \"Artificial Intelligence: A Modern Approach\" 3rd ed."
   ]
  }
 ],
 "metadata": {
  "kernelspec": {
   "display_name": "Python 3 (ipykernel)",
   "language": "python",
   "name": "python3"
  },
  "language_info": {
   "codemirror_mode": {
    "name": "ipython",
    "version": 3
   },
   "file_extension": ".py",
   "mimetype": "text/x-python",
   "name": "python",
   "nbconvert_exporter": "python",
   "pygments_lexer": "ipython3",
   "version": "3.10.8"
  }
 },
 "nbformat": 4,
 "nbformat_minor": 4
}
